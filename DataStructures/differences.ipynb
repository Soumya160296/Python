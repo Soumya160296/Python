{
 "cells": [
  {
   "cell_type": "markdown",
   "metadata": {},
   "source": [
    "## Ordered or not ordered ?"
   ]
  },
  {
   "cell_type": "markdown",
   "metadata": {},
   "source": [
    "### To see which one is ordered define a list, tuple, dict, set"
   ]
  },
  {
   "cell_type": "code",
   "execution_count": 28,
   "metadata": {},
   "outputs": [],
   "source": [
    "l = [1,2,3,4,'No',2.54]\n",
    "t= (4,7,3,27,'Yes')\n",
    "d= {'A': 20,'B':30,'C':40,'D':90}\n",
    "s={'el1','el2','el3',20}"
   ]
  },
  {
   "cell_type": "markdown",
   "metadata": {},
   "source": [
    "### Print all the data structures"
   ]
  },
  {
   "cell_type": "code",
   "execution_count": 17,
   "metadata": {},
   "outputs": [
    {
     "name": "stdout",
     "output_type": "stream",
     "text": [
      "list: [1, 2, 3, 4, 'No', 2.54]\n",
      "tuple: (4, 7, 3, 27, 'Yes')\n",
      "dict: {'A': 20, 'B': 30, 'C': 40, 'D': 90}\n",
      "set: {'el3', 'el1', 20, 'el2'}\n"
     ]
    }
   ],
   "source": [
    "print('list:',l)\n",
    "print('tuple:',t)\n",
    "print('dict:',d)\n",
    "print('set:',s)"
   ]
  },
  {
   "cell_type": "markdown",
   "metadata": {},
   "source": [
    "#### Conclusion\n",
    " As we can observe the order of elements in the set are changed but in list, tuple, dict are the same."
   ]
  },
  {
   "cell_type": "markdown",
   "metadata": {},
   "source": [
    "## Mutable or not?"
   ]
  },
  {
   "cell_type": "markdown",
   "metadata": {},
   "source": [
    "### Mutability check for list()\n",
    "Answer: Yes"
   ]
  },
  {
   "cell_type": "code",
   "execution_count": 18,
   "metadata": {},
   "outputs": [
    {
     "name": "stdout",
     "output_type": "stream",
     "text": [
      "[1, 2, 3, 4, 'No', 2.54]\n",
      "[1, 2, 3, 100, 'No', 2.54]\n"
     ]
    }
   ],
   "source": [
    "print(l)\n",
    "\n",
    "# Now change the 4th  value to 100\n",
    "l[3]=100\n",
    "#Now print it again\n",
    "print(l)\n",
    "#Yes value has been changed."
   ]
  },
  {
   "cell_type": "markdown",
   "metadata": {},
   "source": [
    "### Mutability check for tuple()\n",
    "Answer: It shows an error when we tried to change the value"
   ]
  },
  {
   "cell_type": "code",
   "execution_count": 22,
   "metadata": {},
   "outputs": [
    {
     "name": "stdout",
     "output_type": "stream",
     "text": [
      "Initial tuple is: (4, 7, 3, 27, 'Yes')\n"
     ]
    },
    {
     "ename": "TypeError",
     "evalue": "'tuple' object does not support item assignment",
     "output_type": "error",
     "traceback": [
      "\u001b[0;31m---------------------------------------------------------------------------\u001b[0m",
      "\u001b[0;31mTypeError\u001b[0m                                 Traceback (most recent call last)",
      "\u001b[1;32m/home/user/3 . pythonCore/DataStructures/differences.ipynb Cell 11\u001b[0m in \u001b[0;36m<cell line: 6>\u001b[0;34m()\u001b[0m\n\u001b[1;32m      <a href='vscode-notebook-cell:/home/user/3%20.%20pythonCore/DataStructures/differences.ipynb#X15sZmlsZQ%3D%3D?line=2'>3</a>\u001b[0m t[\u001b[39m3\u001b[39m]\n\u001b[1;32m      <a href='vscode-notebook-cell:/home/user/3%20.%20pythonCore/DataStructures/differences.ipynb#X15sZmlsZQ%3D%3D?line=3'>4</a>\u001b[0m \u001b[39m#try to change the value \u001b[39;00m\n\u001b[0;32m----> <a href='vscode-notebook-cell:/home/user/3%20.%20pythonCore/DataStructures/differences.ipynb#X15sZmlsZQ%3D%3D?line=5'>6</a>\u001b[0m t[\u001b[39m3\u001b[39m] \u001b[39m=\u001b[39m\u001b[39m99\u001b[39m\n",
      "\u001b[0;31mTypeError\u001b[0m: 'tuple' object does not support item assignment"
     ]
    }
   ],
   "source": [
    "#print the tuple \n",
    "print('Initial tuple is:',t)\n",
    "t[3]\n",
    "#try to change the value \n",
    "\n",
    "t[3] = 99\n"
   ]
  },
  {
   "cell_type": "markdown",
   "metadata": {},
   "source": [
    "### Mutability check for dict()\n",
    "Answer: Yes "
   ]
  },
  {
   "cell_type": "code",
   "execution_count": 29,
   "metadata": {},
   "outputs": [
    {
     "name": "stdout",
     "output_type": "stream",
     "text": [
      "Initial dict is: {'A': 20, 'B': 30, 'C': 40, 'D': 90}\n",
      "Changed dict: {'A': 20, 'B': 30, 'C': 'Value changed', 'D': 90}\n"
     ]
    }
   ],
   "source": [
    "#print the dict\n",
    "print('Initial dict is:',d)\n",
    "d['C']\n",
    "#try to change the value \n",
    "d['C']='Value changed'\n",
    "print('Changed dict:',d)"
   ]
  },
  {
   "cell_type": "markdown",
   "metadata": {},
   "source": [
    "### Mutability check for set()\n",
    "- We cannot access or change an element of a set using indexing or slicing but can be accessed as iterators.\n",
    "- So to replace a specific element first we can remove it and later can add a new element as order does not matter in sets.\n",
    "- We can add, remove and update.\n"
   ]
  },
  {
   "cell_type": "code",
   "execution_count": 34,
   "metadata": {},
   "outputs": [
    {
     "name": "stdout",
     "output_type": "stream",
     "text": [
      "Initial set is: {'el3', 2, 3, 4, 'el2', 'el1', 20}\n",
      "Updated set: {'el3', 2, 3, 4, 'el2', 'el1', 20}\n",
      "Element el3\n",
      "Element 2\n",
      "Element 3\n",
      "Element 4\n",
      "Element el2\n",
      "Element el1\n",
      "Element 20\n"
     ]
    }
   ],
   "source": [
    "#print the set\n",
    "print('Initial set is:',s)\n",
    "\n",
    "#try to change the value \n",
    "s.update([2,3,4])\n",
    "\n",
    "print('Updated set:',s)\n",
    "\n",
    "for x in s:\n",
    "    print('Element',x)"
   ]
  },
  {
   "cell_type": "markdown",
   "metadata": {},
   "source": [
    "### A dict can have same values for two different keys but cant have same key for two different values."
   ]
  },
  {
   "cell_type": "code",
   "execution_count": 37,
   "metadata": {},
   "outputs": [],
   "source": [
    "d['D']=30"
   ]
  },
  {
   "cell_type": "code",
   "execution_count": 38,
   "metadata": {},
   "outputs": [
    {
     "data": {
      "text/plain": [
       "{'A': 20, 'B': 30, 'C': 'Value changed', 'D': 30}"
      ]
     },
     "execution_count": 38,
     "metadata": {},
     "output_type": "execute_result"
    }
   ],
   "source": [
    "d"
   ]
  },
  {
   "cell_type": "markdown",
   "metadata": {},
   "source": [
    "#### But no duplicate keys\n",
    "If we add duplicate keys the  last key:value pair is considered and first one is automatically removed.\n",
    "- Actually it considers that no duplicate key is added but value for the key is changed."
   ]
  },
  {
   "cell_type": "code",
   "execution_count": 44,
   "metadata": {},
   "outputs": [
    {
     "name": "stdout",
     "output_type": "stream",
     "text": [
      "{'A': 20, 'B': 30, 'C': 'Duplicate key added', 'D': 90}\n"
     ]
    }
   ],
   "source": [
    "# try to create a dict with duplicate key\n",
    "d= {'A': 20,'B':30,'C':40,'D':90, 'C':'Duplicate key added'}\n",
    "print(d)"
   ]
  }
 ],
 "metadata": {
  "kernelspec": {
   "display_name": "Python 3.8.10 64-bit",
   "language": "python",
   "name": "python3"
  },
  "language_info": {
   "codemirror_mode": {
    "name": "ipython",
    "version": 3
   },
   "file_extension": ".py",
   "mimetype": "text/x-python",
   "name": "python",
   "nbconvert_exporter": "python",
   "pygments_lexer": "ipython3",
   "version": "3.8.10"
  },
  "orig_nbformat": 4,
  "vscode": {
   "interpreter": {
    "hash": "916dbcbb3f70747c44a77c7bcd40155683ae19c65e1c03b4aa3499c5328201f1"
   }
  }
 },
 "nbformat": 4,
 "nbformat_minor": 2
}
