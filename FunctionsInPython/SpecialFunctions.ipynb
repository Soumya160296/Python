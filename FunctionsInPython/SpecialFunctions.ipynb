{
 "cells": [
  {
   "cell_type": "markdown",
   "metadata": {},
   "source": [
    "### lambda function"
   ]
  },
  {
   "cell_type": "code",
   "execution_count": 2,
   "metadata": {},
   "outputs": [
    {
     "name": "stdout",
     "output_type": "stream",
     "text": [
      "ans= 9\n"
     ]
    },
    {
     "data": {
      "text/plain": [
       "4"
      ]
     },
     "execution_count": 2,
     "metadata": {},
     "output_type": "execute_result"
    }
   ],
   "source": [
    "#anonymous function \n",
    "\n",
    "#lambda function\n",
    "v=lambda n:n*n\n",
    "print('ans=',v(3))\n",
    "\n",
    "result=lambda a,b: v(a) if a<b else v(b)\n",
    "result(3,2)\n"
   ]
  },
  {
   "cell_type": "markdown",
   "metadata": {},
   "source": [
    "##### Exaple: Lambda function\n",
    "##### Greatest of 2 numbers"
   ]
  },
  {
   "cell_type": "code",
   "execution_count": 3,
   "metadata": {},
   "outputs": [
    {
     "data": {
      "text/plain": [
       "20"
      ]
     },
     "execution_count": 3,
     "metadata": {},
     "output_type": "execute_result"
    }
   ],
   "source": [
    "greatest = lambda num1,num2: num1 if num1>num2 else num2\n",
    "\n",
    "#call the function\n",
    "greatest(10,20)"
   ]
  },
  {
   "cell_type": "markdown",
   "metadata": {},
   "source": [
    "### map()"
   ]
  },
  {
   "cell_type": "code",
   "execution_count": null,
   "metadata": {},
   "outputs": [],
   "source": [
    "#map() examples\n",
    "\n",
    "list2=[1,2,3,4,5,6,7,8]\n",
    "\n",
    "x=list(map(lambda x: x*x,list2))\n",
    "print(x)\n",
    "\n",
    "#reduce() example\n",
    "\n",
    "from functools import *\n",
    "test=reduce(lambda x,y : x+y,list2)\n",
    "print(test)"
   ]
  },
  {
   "cell_type": "markdown",
   "metadata": {},
   "source": [
    "### filter()"
   ]
  },
  {
   "cell_type": "code",
   "execution_count": 1,
   "metadata": {},
   "outputs": [
    {
     "name": "stdout",
     "output_type": "stream",
     "text": [
      "[4, 2, 12]\n",
      "[4, 2, 12]\n"
     ]
    }
   ],
   "source": [
    "#create a function \n",
    "def iseven(n):\n",
    "    if n%2==0:\n",
    "        return True\n",
    "    else:\n",
    "        return False\n",
    "\n",
    "    #ctreate a list\n",
    "list1=[4,3,1,2,5,7,21,12]\n",
    "    \n",
    "    #use filter function to filter only even numbers\n",
    "    \n",
    "print(list(filter(iseven, list1)))\n",
    "\n",
    "\n",
    "#or \n",
    "print(list(filter(lambda x: x%2==0, list1)))  "
   ]
  },
  {
   "cell_type": "code",
   "execution_count": null,
   "metadata": {},
   "outputs": [],
   "source": [
    "s= 'heloohdq12342349'\n",
    "# create empty strings\n",
    "output1=output2=''\n",
    "\n",
    "for x in s:\n",
    "    if x.isalpha():      #is alphabetic\n",
    "        output1=output1+x\n",
    "    else:\n",
    "        output2=output2+x\n",
    "print(output1)\n",
    "print(output2)\n",
    "    "
   ]
  }
 ],
 "metadata": {
  "kernelspec": {
   "display_name": "Python 3.8.10 64-bit",
   "language": "python",
   "name": "python3"
  },
  "language_info": {
   "codemirror_mode": {
    "name": "ipython",
    "version": 3
   },
   "file_extension": ".py",
   "mimetype": "text/x-python",
   "name": "python",
   "nbconvert_exporter": "python",
   "pygments_lexer": "ipython3",
   "version": "3.8.10 (default, Nov 14 2022, 12:59:47) \n[GCC 9.4.0]"
  },
  "orig_nbformat": 4,
  "vscode": {
   "interpreter": {
    "hash": "916dbcbb3f70747c44a77c7bcd40155683ae19c65e1c03b4aa3499c5328201f1"
   }
  }
 },
 "nbformat": 4,
 "nbformat_minor": 2
}
