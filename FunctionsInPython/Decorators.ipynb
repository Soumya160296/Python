{
 "cells": [
  {
   "cell_type": "markdown",
   "metadata": {},
   "source": [
    "### Decorators in python\n",
    "A decorator adds new functionality to a function without explicitly modifying it."
   ]
  },
  {
   "cell_type": "markdown",
   "metadata": {},
   "source": [
    "# Example 1"
   ]
  },
  {
   "cell_type": "code",
   "execution_count": 24,
   "metadata": {},
   "outputs": [],
   "source": [
    "#first lets define a function to divide two numbers\n",
    "from random import seed\n",
    "from random import random \n",
    "seed(1)\n",
    "\n",
    "def divide(a, b):\n",
    "    return a/b\n",
    "\n",
    "#but in case b=0 our function will give an error\n",
    "#so we want to modify it without changing the original function\n",
    "\n",
    "#now define another function\n",
    "def modified_division(a_function):  #a function as a parameter.\n",
    "\n",
    "    def improvedDivision(a, b):  \n",
    "        #this is the inner function.\n",
    "        # It is just changing the value of b if b=0\n",
    "\n",
    "\n",
    "        print(\"Divide\", a, \"by\", b)\n",
    "\n",
    "        if b == 0:\n",
    "            print(f'You entered b = {b}. Division by {b} is not defined.')\n",
    "         \n",
    "            b=random()\n",
    "            print('So b is replaced with,b=',b)\n",
    "            \n",
    "        return a_function(a, b)\n",
    "        # 'a_function' is a parameter for the outer function.\n",
    "        #  So it can be accessed by the inner function. \n",
    "        # So inner function has accessed 'a_function' as a parameter and returned \n",
    "        # it as a return value.\n",
    "\n",
    "        #But 'a_function' itself is a function so the inner function 'division()'\n",
    "        # is actually modifying the function 'a_function' with its own arguments a,b.\n",
    "        # what ever the function 'a_function' is.\n",
    "\n",
    "    return improvedDivision\n",
    "    #return what ever the inner function is returning.\n"
   ]
  },
  {
   "cell_type": "markdown",
   "metadata": {},
   "source": [
    "#### Now call the divide function with (3,0)"
   ]
  },
  {
   "cell_type": "code",
   "execution_count": 25,
   "metadata": {},
   "outputs": [
    {
     "ename": "ZeroDivisionError",
     "evalue": "division by zero",
     "output_type": "error",
     "traceback": [
      "\u001b[0;31m---------------------------------------------------------------------------\u001b[0m",
      "\u001b[0;31mZeroDivisionError\u001b[0m                         Traceback (most recent call last)",
      "\u001b[1;32m/home/user/3 . pythonCore/FunctionsInPython/Decorators.ipynb Cell 5\u001b[0m in \u001b[0;36m<cell line: 2>\u001b[0;34m()\u001b[0m\n\u001b[1;32m      <a href='vscode-notebook-cell:/home/user/3%20.%20pythonCore/FunctionsInPython/Decorators.ipynb#W4sZmlsZQ%3D%3D?line=0'>1</a>\u001b[0m \u001b[39m#We will get an error\u001b[39;00m\n\u001b[0;32m----> <a href='vscode-notebook-cell:/home/user/3%20.%20pythonCore/FunctionsInPython/Decorators.ipynb#W4sZmlsZQ%3D%3D?line=1'>2</a>\u001b[0m divide(\u001b[39m3\u001b[39;49m,\u001b[39m0\u001b[39;49m)\n",
      "\u001b[1;32m/home/user/3 . pythonCore/FunctionsInPython/Decorators.ipynb Cell 5\u001b[0m in \u001b[0;36mdivide\u001b[0;34m(a, b)\u001b[0m\n\u001b[1;32m      <a href='vscode-notebook-cell:/home/user/3%20.%20pythonCore/FunctionsInPython/Decorators.ipynb#W4sZmlsZQ%3D%3D?line=5'>6</a>\u001b[0m \u001b[39mdef\u001b[39;00m \u001b[39mdivide\u001b[39m(a, b):\n\u001b[0;32m----> <a href='vscode-notebook-cell:/home/user/3%20.%20pythonCore/FunctionsInPython/Decorators.ipynb#W4sZmlsZQ%3D%3D?line=6'>7</a>\u001b[0m     \u001b[39mreturn\u001b[39;00m a\u001b[39m/\u001b[39;49mb\n",
      "\u001b[0;31mZeroDivisionError\u001b[0m: division by zero"
     ]
    }
   ],
   "source": [
    "#We will get an error\n",
    "divide(3,0)"
   ]
  },
  {
   "cell_type": "code",
   "execution_count": 26,
   "metadata": {},
   "outputs": [
    {
     "name": "stdout",
     "output_type": "stream",
     "text": [
      "Divide 3 by 0\n",
      "You entered b = 0. Division by 0 is not defined.\n",
      "So b is replaced with,b= 0.13436424411240122\n"
     ]
    },
    {
     "data": {
      "text/plain": [
       "22.327368563100585"
      ]
     },
     "execution_count": 26,
     "metadata": {},
     "output_type": "execute_result"
    }
   ],
   "source": [
    "# 'modified_division(a_function)' is basically a function\n",
    "#  that modifies the specified function 'a_function'\n",
    "\n",
    "# So pass the divide() function as an argument to the modified_division() to modifiy it\n",
    "divide = modified_division(divide)\n",
    "#That means 'modified_division()' is taking divide() as an input argument to modify it.\n",
    "\n",
    "\n",
    "# divide it modified, now call it with (3,0)\n",
    "divide(3,0)"
   ]
  },
  {
   "cell_type": "markdown",
   "metadata": {},
   "source": [
    "#### In the above example modified_division() will be called a decorator function."
   ]
  },
  {
   "cell_type": "markdown",
   "metadata": {},
   "source": [
    "### Specifying the decorator function with @ symbol"
   ]
  },
  {
   "cell_type": "markdown",
   "metadata": {},
   "source": [
    "Rather than typing \n",
    "```\n",
    "divide = modified_division(divide)\n",
    "```\n",
    "we can specify that modified_division() is a decorator using the decorator syntatic symbol when we define the original function."
   ]
  },
  {
   "cell_type": "code",
   "execution_count": 27,
   "metadata": {},
   "outputs": [
    {
     "name": "stdout",
     "output_type": "stream",
     "text": [
      "Divide 2 by 4\n",
      "0.5\n",
      "Divide 3 by 0\n",
      "You entered b = 0. Division by 0 is not defined.\n",
      "So b is replaced with,b= 0.8474337369372327\n",
      "3.540099796879107\n"
     ]
    }
   ],
   "source": [
    "@modified_division        #it is specifying that modified_division is a decorator\n",
    "def divide(a, b):         # And since we added this just before defination of divide function\n",
    "                          # so it will act as a decorator for the divide function\n",
    "    return a/b\n",
    "    \n",
    "#with command '@modified_division' it will first execute the decorator function\n",
    "# and then the main function divide()\n",
    "\n",
    "print(divide(2,4))\n",
    "#divide(3,0)\n",
    "\n",
    "#Here we just called the divide(a,b) function but '@modified_division' \n",
    "# command will decorate the divide(a,b) function \n",
    "#according to the defined decorator function modified_division\n",
    "print(divide(3,0))"
   ]
  },
  {
   "cell_type": "markdown",
   "metadata": {},
   "source": [
    "### We can define the entire thing as shown below."
   ]
  },
  {
   "cell_type": "code",
   "execution_count": 28,
   "metadata": {},
   "outputs": [
    {
     "name": "stdout",
     "output_type": "stream",
     "text": [
      "Divide 4 by 0\n",
      "You entered b = 0. Division by 0 is not defined.\n",
      "So b is replaced with,b= 0.763774618976614\n"
     ]
    },
    {
     "data": {
      "text/plain": [
       "5.2371470596386445"
      ]
     },
     "execution_count": 28,
     "metadata": {},
     "output_type": "execute_result"
    }
   ],
   "source": [
    "@modified_division        #it is specifying that modified_division is a decorator\n",
    "def divide(a, b):         # And since we added this just before defination of divide function\n",
    "                          # so it will act as a decorator for the divide function\n",
    "    return a/b\n",
    "\n",
    "#now define the decorator to modify divide()\n",
    "def modified_division(a_function): \n",
    "\n",
    "    def improvedDivision(a, b):  \n",
    "\n",
    "        print(\"Divide\", a, \"by\", b)\n",
    "\n",
    "        if b == 0:\n",
    "            print(f'You entered b = {b}. Division by {b} is not defined.')\n",
    "         \n",
    "            b=random()\n",
    "            print('So b is replaced with,b=',b)\n",
    "            \n",
    "        return a_function(a, b)\n",
    "\n",
    "    return improvedDivision\n",
    "\n",
    "\n",
    "#call the divide function\n",
    "\n",
    "divide(4,0)\n"
   ]
  }
 ],
 "metadata": {
  "kernelspec": {
   "display_name": "Python 3.8.10 64-bit",
   "language": "python",
   "name": "python3"
  },
  "language_info": {
   "codemirror_mode": {
    "name": "ipython",
    "version": 3
   },
   "file_extension": ".py",
   "mimetype": "text/x-python",
   "name": "python",
   "nbconvert_exporter": "python",
   "pygments_lexer": "ipython3",
   "version": "3.8.10"
  },
  "orig_nbformat": 4,
  "vscode": {
   "interpreter": {
    "hash": "916dbcbb3f70747c44a77c7bcd40155683ae19c65e1c03b4aa3499c5328201f1"
   }
  }
 },
 "nbformat": 4,
 "nbformat_minor": 2
}
