{
 "cells": [
  {
   "cell_type": "markdown",
   "metadata": {},
   "source": [
    "### 19th July, 2021\n",
    "## Recursive functions "
   ]
  },
  {
   "cell_type": "markdown",
   "metadata": {},
   "source": [
    "#### Factorial using recursive function"
   ]
  },
  {
   "cell_type": "code",
   "execution_count": 2,
   "metadata": {},
   "outputs": [
    {
     "name": "stdout",
     "output_type": "stream",
     "text": [
      "24 1 120\n"
     ]
    }
   ],
   "source": [
    "def calculateFactorial(n):\n",
    "    if n==0:\n",
    "        result=1\n",
    "    else:\n",
    "        result=n*calculateFactorial(n-1)\n",
    "    return result\n",
    "a=calculateFactorial(4)\n",
    "b=calculateFactorial(0)\n",
    "c=calculateFactorial(5)\n",
    "print(a,b,c)"
   ]
  },
  {
   "cell_type": "markdown",
   "metadata": {},
   "source": [
    "### Eaxmple 2\n",
    "Sum of first n natural numbers"
   ]
  },
  {
   "cell_type": "code",
   "execution_count": 7,
   "metadata": {},
   "outputs": [
    {
     "name": "stdout",
     "output_type": "stream",
     "text": [
      "1275\n"
     ]
    }
   ],
   "source": [
    "def sum(n):\n",
    "    if n == 1:   # base case\n",
    "        return n\n",
    "    else:        # general or recursive case\n",
    "        return n + sum(n-1)\n",
    "\n",
    "\n",
    "print(sum(50))"
   ]
  },
  {
   "cell_type": "markdown",
   "metadata": {},
   "source": [
    "### Direct recursion"
   ]
  },
  {
   "cell_type": "markdown",
   "metadata": {},
   "source": [
    "### Tail-recursion execution"
   ]
  },
  {
   "cell_type": "code",
   "execution_count": 9,
   "metadata": {},
   "outputs": [
    {
     "name": "stdout",
     "output_type": "stream",
     "text": [
      "5\n",
      "4\n",
      "3\n",
      "2\n",
      "1\n"
     ]
    }
   ],
   "source": [
    "def dispn(n):\n",
    "    if n == 0:\n",
    "        return  # Base case\n",
    "    print(n)\n",
    "    dispn(n - 1)  # Tail Recursive Call\n",
    "\n",
    "dispn(5)"
   ]
  },
  {
   "cell_type": "markdown",
   "metadata": {},
   "source": [
    "### Non-tail/Head recursion execution."
   ]
  },
  {
   "cell_type": "code",
   "execution_count": 10,
   "metadata": {},
   "outputs": [
    {
     "name": "stdout",
     "output_type": "stream",
     "text": [
      "1\n",
      "2\n",
      "3\n",
      "4\n",
      "5\n"
     ]
    }
   ],
   "source": [
    "def dispn(n):\n",
    "    if n == 0:\n",
    "        return  # Base case\n",
    "    dispn(n - 1)  # Not a Tail Recursive Call\n",
    "    print(n)\n",
    "\n",
    "dispn(5)"
   ]
  },
  {
   "cell_type": "markdown",
   "metadata": {},
   "source": [
    "### Indirect recursion"
   ]
  },
  {
   "cell_type": "code",
   "execution_count": 8,
   "metadata": {},
   "outputs": [
    {
     "name": "stdout",
     "output_type": "stream",
     "text": [
      " 20 21 16 17 12 13 8 9 4 5"
     ]
    }
   ],
   "source": [
    "def A(n):\n",
    "    if n > 0:\n",
    "        print(\"\", n, end='')\n",
    "        B(n + 1)\n",
    "\n",
    "\n",
    "def B(n):\n",
    "    if n > 1:\n",
    "        print(\"\", n, end='')\n",
    "        A(n - 5)\n",
    "\n",
    "\n",
    "A(20)"
   ]
  },
  {
   "cell_type": "markdown",
   "metadata": {},
   "source": [
    "### Order of execution of the above function"
   ]
  },
  {
   "cell_type": "markdown",
   "metadata": {},
   "source": [
    "n = 20 > 0 so print(20) --> B(21) since 21>1 so print(21)\n",
    "--> A(16) since 16 > 0 print(16) --> B(17) print(17) --> A(12) print(12)\n",
    "--> B(13) print(13) --> A(8) print(8) --> B(9) print(9) --> A(4) print(4)\n",
    "--> B(5) print(5) --> A(0) so no logic."
   ]
  }
 ],
 "metadata": {
  "kernelspec": {
   "display_name": "Python 3.8.10 64-bit",
   "language": "python",
   "name": "python3"
  },
  "language_info": {
   "codemirror_mode": {
    "name": "ipython",
    "version": 3
   },
   "file_extension": ".py",
   "mimetype": "text/x-python",
   "name": "python",
   "nbconvert_exporter": "python",
   "pygments_lexer": "ipython3",
   "version": "3.8.10"
  },
  "orig_nbformat": 4,
  "vscode": {
   "interpreter": {
    "hash": "916dbcbb3f70747c44a77c7bcd40155683ae19c65e1c03b4aa3499c5328201f1"
   }
  }
 },
 "nbformat": 4,
 "nbformat_minor": 2
}
