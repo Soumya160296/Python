{
 "cells": [
  {
   "cell_type": "markdown",
   "metadata": {},
   "source": [
    "# 7th july 2021\n",
    "### Funtions in python"
   ]
  },
  {
   "cell_type": "markdown",
   "metadata": {},
   "source": [
    "### Basic syntax"
   ]
  },
  {
   "cell_type": "code",
   "execution_count": 1,
   "metadata": {},
   "outputs": [
    {
     "name": "stdout",
     "output_type": "stream",
     "text": [
      "Hello Shakh, let's study about python functions\n"
     ]
    }
   ],
   "source": [
    "# define a function\n",
    "def function1(name):\n",
    "  print(f\"Hello {name}, let's study about python functions\")\n",
    "  return None\n",
    "\n",
    "#call the function\n",
    "function1('Shakh')"
   ]
  },
  {
   "cell_type": "markdown",
   "metadata": {},
   "source": [
    "### Examples"
   ]
  },
  {
   "cell_type": "markdown",
   "metadata": {},
   "source": [
    "### Area of a circle"
   ]
  },
  {
   "cell_type": "code",
   "execution_count": 2,
   "metadata": {},
   "outputs": [
    {
     "name": "stdout",
     "output_type": "stream",
     "text": [
      "('The area is:', 28.274333882308138)\n",
      "('The area is:', 0.0)\n",
      "('The area is:', 12.566370614359172)\n",
      "('The area is:', 314.1592653589793)\n"
     ]
    }
   ],
   "source": [
    "#define a function to calculate the area of a circle\n",
    "import math\n",
    "pi=math.pi\n",
    "def area(r):\n",
    "    #r=radius\n",
    "    return \"The area is:\" , pi*pow(r,2)\n",
    "\n",
    "# call the functions\n",
    "print(area(3))\n",
    "print(area(0))\n",
    "print(area(2))\n",
    "print(area(10))"
   ]
  },
  {
   "cell_type": "markdown",
   "metadata": {},
   "source": [
    "### create a function to check whether a number is even or odd"
   ]
  },
  {
   "cell_type": "code",
   "execution_count": 3,
   "metadata": {},
   "outputs": [
    {
     "name": "stdout",
     "output_type": "stream",
     "text": [
      "13 is odd\n"
     ]
    }
   ],
   "source": [
    "#create a function to check whether its even or odd\n",
    "def odd_even(a):\n",
    "    if a%2==0:\n",
    "        print('{} is even'.format(a))\n",
    "    else:\n",
    "        print('{} is odd'.format(a))\n",
    "        \n",
    "odd_even(13)\n",
    "    "
   ]
  },
  {
   "cell_type": "markdown",
   "metadata": {},
   "source": [
    "### More about Arguments"
   ]
  },
  {
   "cell_type": "markdown",
   "metadata": {},
   "source": [
    "### Funcion with default parameter value or Default argument"
   ]
  },
  {
   "cell_type": "code",
   "execution_count": 4,
   "metadata": {},
   "outputs": [
    {
     "name": "stdout",
     "output_type": "stream",
     "text": [
      "Hello Bro! Mr. Shakh\n",
      "Hello Bro! Mr. Sultan\n"
     ]
    }
   ],
   "source": [
    "#define a function with default parameter value\n",
    "def fun2(name = 'Shakh'):\n",
    "    print('Hello Bro! Mr.',name)\n",
    "\n",
    "#Now we can call the function without any argument\n",
    "fun2()\n",
    "\n",
    "# Or we can call the function with our own argument\n",
    "fun2('Sultan')"
   ]
  },
  {
   "cell_type": "markdown",
   "metadata": {},
   "source": [
    "### Arbitary arguments"
   ]
  },
  {
   "cell_type": "code",
   "execution_count": 5,
   "metadata": {},
   "outputs": [
    {
     "name": "stdout",
     "output_type": "stream",
     "text": [
      "Hello Alo\n",
      "Hello Bilo\n",
      "Hello Cilo\n",
      "None\n"
     ]
    }
   ],
   "source": [
    "#define a function with arbitary arguments\n",
    "def my_function(*names):\n",
    "    for i in range(len(names)):\n",
    "        print(f'Hello {names[i]}')\n",
    "    return None\n",
    "\n",
    "# Call the function for 3 names\n",
    "print(my_function('Alo', 'Bilo', 'Cilo'))\n"
   ]
  },
  {
   "cell_type": "markdown",
   "metadata": {},
   "source": [
    "### We can do the same with a list\n",
    "If we need to define multiple parameters and don't know exactly how many parameters, in such cases we can give a list as a parameter. Beacuse later then we can add any number of elements in the list."
   ]
  },
  {
   "cell_type": "code",
   "execution_count": 6,
   "metadata": {},
   "outputs": [
    {
     "name": "stdout",
     "output_type": "stream",
     "text": [
      "Argument passed it: Alo\n",
      "Argument passed it: Bilo\n",
      "Argument passed it: Cilo\n",
      "None\n",
      "Argument passed it: A\n",
      "Argument passed it: B\n",
      "Argument passed it: ewq\n",
      "Argument passed it: 23\n",
      "Argument passed it: Hello\n",
      "None\n"
     ]
    }
   ],
   "source": [
    "#define a function with arbitary arguments\n",
    "def my_function(list_parameter):\n",
    "    for i in range(len(list_parameter)):\n",
    "        print(f'Argument passed it: {list_parameter[i]}')\n",
    "    return None\n",
    "\n",
    "# Call the function for 3 arguments\n",
    "print(my_function(['Alo', 'Bilo', 'Cilo']))\n",
    "\n",
    "\n",
    "#call the function for 5 arguments\n",
    "print(my_function(['A','B','ewq',23,'Hello']))"
   ]
  },
  {
   "cell_type": "markdown",
   "metadata": {},
   "source": [
    "### Keyword arguments & Positional arguments"
   ]
  },
  {
   "cell_type": "code",
   "execution_count": 7,
   "metadata": {},
   "outputs": [
    {
     "name": "stdout",
     "output_type": "stream",
     "text": [
      "23 45 38\n"
     ]
    }
   ],
   "source": [
    "#define a function\n",
    "def func(p1,p2,p3):\n",
    "   print(p1,p2,p3)\n",
    "\n",
    "#call the function\n",
    "func(23,45,38)\n",
    "#Here, 23 will be passed to p1, 45 to p2, 38 to p3. Means in ordered format."
   ]
  },
  {
   "cell_type": "markdown",
   "metadata": {},
   "source": [
    "But we can pass some arguments using key = value format"
   ]
  },
  {
   "cell_type": "code",
   "execution_count": 8,
   "metadata": {},
   "outputs": [
    {
     "name": "stdout",
     "output_type": "stream",
     "text": [
      "23 45 38\n"
     ]
    }
   ],
   "source": [
    "func(p2 = 45, p1 = 23, p3 = 38)\n"
   ]
  },
  {
   "cell_type": "markdown",
   "metadata": {},
   "source": [
    "### When all are keyword arguments order does not matter"
   ]
  },
  {
   "cell_type": "code",
   "execution_count": 9,
   "metadata": {},
   "outputs": [
    {
     "name": "stdout",
     "output_type": "stream",
     "text": [
      "23 45 38\n"
     ]
    }
   ],
   "source": [
    "#order 1\n",
    "func(p2 = 45, p1 = 23, p3 = 38)\n"
   ]
  },
  {
   "cell_type": "code",
   "execution_count": 10,
   "metadata": {},
   "outputs": [
    {
     "name": "stdout",
     "output_type": "stream",
     "text": [
      "23 45 38\n"
     ]
    }
   ],
   "source": [
    "#order 2\n",
    "func(p3 = 38, p2 = 45, p1 = 23 )\n",
    "#Although order 1 and 2 are different but we got the same result\n",
    "#  in original order of the function definition."
   ]
  },
  {
   "cell_type": "markdown",
   "metadata": {},
   "source": [
    "### Positional arguments"
   ]
  },
  {
   "cell_type": "code",
   "execution_count": 11,
   "metadata": {},
   "outputs": [
    {
     "name": "stdout",
     "output_type": "stream",
     "text": [
      "23 45 38\n"
     ]
    }
   ],
   "source": [
    "func(23,45,p3= 38)"
   ]
  },
  {
   "cell_type": "markdown",
   "metadata": {},
   "source": [
    "#### When there are positional arguments, order matters. And \n"
   ]
  },
  {
   "cell_type": "code",
   "execution_count": 12,
   "metadata": {},
   "outputs": [
    {
     "ename": "SyntaxError",
     "evalue": "positional argument follows keyword argument (418370932.py, line 1)",
     "output_type": "error",
     "traceback": [
      "\u001b[0;36m  Input \u001b[0;32mIn [12]\u001b[0;36m\u001b[0m\n\u001b[0;31m    func(23,p2= 45,38)\u001b[0m\n\u001b[0m                   ^\u001b[0m\n\u001b[0;31mSyntaxError\u001b[0m\u001b[0;31m:\u001b[0m positional argument follows keyword argument\n"
     ]
    }
   ],
   "source": [
    "func(23,p2= 45,38)"
   ]
  },
  {
   "cell_type": "code",
   "execution_count": null,
   "metadata": {},
   "outputs": [
    {
     "ename": "SyntaxError",
     "evalue": "positional argument follows keyword argument (1299482543.py, line 4)",
     "output_type": "error",
     "traceback": [
      "\u001b[0;36m  Input \u001b[0;32mIn [30]\u001b[0;36m\u001b[0m\n\u001b[0;31m    func2(10,20,p3=30,40)\u001b[0m\n\u001b[0m                      ^\u001b[0m\n\u001b[0;31mSyntaxError\u001b[0m\u001b[0;31m:\u001b[0m positional argument follows keyword argument\n"
     ]
    }
   ],
   "source": [
    "def func2(p1,p2,p3,p4):\n",
    "    print(p1,p2,p3,p4)\n",
    "\n",
    "func2(10,20,p3=30,40)"
   ]
  },
  {
   "cell_type": "code",
   "execution_count": null,
   "metadata": {},
   "outputs": [
    {
     "ename": "TypeError",
     "evalue": "func2() got multiple values for argument 'p3'",
     "output_type": "error",
     "traceback": [
      "\u001b[0;31m---------------------------------------------------------------------------\u001b[0m",
      "\u001b[0;31mTypeError\u001b[0m                                 Traceback (most recent call last)",
      "\u001b[1;32m/home/user/3 . pythonCore/FunctionsInPython/Basics_of_functions_in_Python.ipynb Cell 28\u001b[0m in \u001b[0;36m<cell line: 4>\u001b[0;34m()\u001b[0m\n\u001b[1;32m      <a href='vscode-notebook-cell:/home/user/3%20.%20pythonCore/FunctionsInPython/Basics_of_functions_in_Python.ipynb#X53sZmlsZQ%3D%3D?line=0'>1</a>\u001b[0m \u001b[39mdef\u001b[39;00m \u001b[39mfunc2\u001b[39m(p1,p2,p3,p4):\n\u001b[1;32m      <a href='vscode-notebook-cell:/home/user/3%20.%20pythonCore/FunctionsInPython/Basics_of_functions_in_Python.ipynb#X53sZmlsZQ%3D%3D?line=1'>2</a>\u001b[0m     \u001b[39mprint\u001b[39m(p1,p2,p3,p4)\n\u001b[0;32m----> <a href='vscode-notebook-cell:/home/user/3%20.%20pythonCore/FunctionsInPython/Basics_of_functions_in_Python.ipynb#X53sZmlsZQ%3D%3D?line=3'>4</a>\u001b[0m func2(\u001b[39m10\u001b[39;49m,\u001b[39m20\u001b[39;49m,\u001b[39m40\u001b[39;49m,p3\u001b[39m=\u001b[39;49m\u001b[39m30\u001b[39;49m)\n",
      "\u001b[0;31mTypeError\u001b[0m: func2() got multiple values for argument 'p3'"
     ]
    }
   ],
   "source": [
    "def func2(p1,p2,p3,p4):\n",
    "    print(p1,p2,p3,p4)\n",
    "\n",
    "func2(10,20,40,p3=30)"
   ]
  }
 ],
 "metadata": {
  "kernelspec": {
   "display_name": "Python 3.8.10 64-bit",
   "language": "python",
   "name": "python3"
  },
  "language_info": {
   "codemirror_mode": {
    "name": "ipython",
    "version": 3
   },
   "file_extension": ".py",
   "mimetype": "text/x-python",
   "name": "python",
   "nbconvert_exporter": "python",
   "pygments_lexer": "ipython3",
   "version": "3.8.10"
  },
  "vscode": {
   "interpreter": {
    "hash": "916dbcbb3f70747c44a77c7bcd40155683ae19c65e1c03b4aa3499c5328201f1"
   }
  }
 },
 "nbformat": 4,
 "nbformat_minor": 4
}
