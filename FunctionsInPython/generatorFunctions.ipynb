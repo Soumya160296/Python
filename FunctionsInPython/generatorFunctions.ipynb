{
 "cells": [
  {
   "cell_type": "markdown",
   "id": "bbea572e",
   "metadata": {},
   "source": [
    "### Generator function in python"
   ]
  },
  {
   "cell_type": "code",
   "execution_count": 13,
   "id": "58bf32ad",
   "metadata": {
    "scrolled": true
   },
   "outputs": [],
   "source": [
    "#simple example and syntax\n",
    "\n",
    "#define the function with yield to yield the output\n",
    "def genfun():\n",
    "    yield 'A'\n",
    "    yield 'B'\n",
    "    yield 'C'\n",
    "    yield 'D'\n",
    "    \n",
    "# call the function and assign it to a variable\n",
    "fun=genfun()"
   ]
  },
  {
   "cell_type": "code",
   "execution_count": 14,
   "id": "4cbf5182",
   "metadata": {},
   "outputs": [
    {
     "data": {
      "text/plain": [
       "<generator object genfun at 0x7f8658b0ad60>"
      ]
     },
     "execution_count": 14,
     "metadata": {},
     "output_type": "execute_result"
    }
   ],
   "source": [
    "fun\n",
    "# so generator function genfun() just returned an object."
   ]
  },
  {
   "cell_type": "code",
   "execution_count": 15,
   "id": "d01d5edd",
   "metadata": {},
   "outputs": [
    {
     "name": "stdout",
     "output_type": "stream",
     "text": [
      "A\n",
      "B\n",
      "C\n",
      "D\n",
      "<class 'generator'>\n"
     ]
    }
   ],
   "source": [
    "#Now get the objects\n",
    "for x in fun:\n",
    "    print(x)\n",
    "print(type(fun))"
   ]
  },
  {
   "cell_type": "code",
   "execution_count": 18,
   "id": "d9d09bb2",
   "metadata": {},
   "outputs": [
    {
     "data": {
      "text/plain": [
       "'A'"
      ]
     },
     "execution_count": 18,
     "metadata": {},
     "output_type": "execute_result"
    }
   ],
   "source": [
    "f2 = genfun()\n",
    "next(f2)"
   ]
  },
  {
   "cell_type": "code",
   "execution_count": 19,
   "id": "deee9a22",
   "metadata": {},
   "outputs": [
    {
     "data": {
      "text/plain": [
       "'B'"
      ]
     },
     "execution_count": 19,
     "metadata": {},
     "output_type": "execute_result"
    }
   ],
   "source": [
    "next(f2)"
   ]
  },
  {
   "cell_type": "markdown",
   "id": "08834fdb",
   "metadata": {},
   "source": [
    "### yield vs return"
   ]
  },
  {
   "cell_type": "code",
   "execution_count": 22,
   "id": "cbaf7468",
   "metadata": {},
   "outputs": [
    {
     "name": "stdout",
     "output_type": "stream",
     "text": [
      "first value\n"
     ]
    }
   ],
   "source": [
    "def genFun2():\n",
    "    yield \"first value\"\n",
    "\n",
    "    return 'Return from return'\n",
    "\n",
    "    yield 'third value'\n",
    "\n",
    "f2 = genFun2()\n",
    "\n",
    "for i in f2:\n",
    "    print(i)\n",
    "\n",
    "# it will return only first value is the function will\n",
    "# be termianted by the return statement"
   ]
  },
  {
   "cell_type": "markdown",
   "id": "77cc5186",
   "metadata": {},
   "source": [
    "### Generator expression"
   ]
  },
  {
   "cell_type": "code",
   "execution_count": 24,
   "id": "e79dc4b5",
   "metadata": {},
   "outputs": [
    {
     "name": "stdout",
     "output_type": "stream",
     "text": [
      "1\n",
      "4\n",
      "9\n",
      "16\n",
      "25\n"
     ]
    }
   ],
   "source": [
    "#define a generator using normal syntax\n",
    "def genSquares(n):\n",
    "    for i in range(1,n+1):\n",
    "        yield pow(i,2)\n",
    "\n",
    "f = genSquares(5)\n",
    "for i in f:\n",
    "    print(i)"
   ]
  },
  {
   "cell_type": "markdown",
   "id": "4b930118",
   "metadata": {},
   "source": [
    "### But we can do the same using generator expression () "
   ]
  },
  {
   "cell_type": "code",
   "execution_count": 60,
   "id": "f00292aa",
   "metadata": {},
   "outputs": [
    {
     "name": "stdout",
     "output_type": "stream",
     "text": [
      "<class 'generator'>\n",
      "<generator object <genexpr> at 0x7f8658ad04a0>\n",
      "1\n",
      "4\n",
      "9\n",
      "16\n",
      "25\n"
     ]
    }
   ],
   "source": [
    "squres = (pow(x,2) for x in range(1,6))\n",
    "\n",
    "print(type(squres))\n",
    "\n",
    "print(squres)\n",
    "# get the elements\n",
    "for i in squres:\n",
    "    print(i)\n",
    "\n"
   ]
  },
  {
   "cell_type": "markdown",
   "id": "f2906716",
   "metadata": {},
   "source": [
    "### Remember that when we use  [] it becomes a list"
   ]
  },
  {
   "cell_type": "code",
   "execution_count": 61,
   "id": "815c5e44",
   "metadata": {},
   "outputs": [
    {
     "name": "stdout",
     "output_type": "stream",
     "text": [
      "<class 'list'>\n",
      "[1, 4, 9, 16, 25]\n"
     ]
    }
   ],
   "source": [
    "squares = [pow(x,2) for x in range(1, 6)]\n",
    "print(type(squares))\n",
    "\n",
    "print(squares)"
   ]
  },
  {
   "cell_type": "markdown",
   "id": "9eeef2ba",
   "metadata": {},
   "source": [
    "### Some examples"
   ]
  },
  {
   "cell_type": "code",
   "execution_count": 65,
   "id": "b7d4272c",
   "metadata": {},
   "outputs": [
    {
     "name": "stdout",
     "output_type": "stream",
     "text": [
      "5000\n",
      "Execution time: 0.0018198490142822266\n",
      "5000\n",
      "Execution time: 0.0010223388671875\n"
     ]
    }
   ],
   "source": [
    "#Create fibonaci series using generator function\n",
    "n = 5000\n",
    "#fibonaci series: every next number is the sum of two previous numbers\n",
    "\n",
    "# fibonaci series using a function\n",
    "import time \n",
    "t1 = time.time()\n",
    "def fibon(a,b,terms):\n",
    "    fiboSe=[]   #fibonacci series in a list\n",
    "    while terms>0:\n",
    "        fibo = a+b\n",
    "        a=b\n",
    "        b=fibo\n",
    "        fiboSe.append(fibo)\n",
    "        terms=terms-1\n",
    "    return fiboSe\n",
    "\n",
    "print(len(fibon(0,1,n)))\n",
    "t2 = time.time()\n",
    "print(f'Execution time: {t2-t1}')\n",
    "\n",
    "#fibonaci series using generator\n",
    "def fiboGen(a,b,terms):\n",
    "    while terms>0:\n",
    "        fibo = a+b\n",
    "        yield fibo\n",
    "        a=b\n",
    "        b=fibo\n",
    "        terms=terms-1\n",
    "\n",
    " #Extract the values from the generator object and make a list\n",
    "f_elements = [ x for x in fiboGen(0,1,n) ]\n",
    "print(len(f_elements))\n",
    "\n",
    "t3=time.time()\n",
    "print(f'Execution time: {t3-t2}')"
   ]
  },
  {
   "cell_type": "markdown",
   "id": "ed2cafe4",
   "metadata": {},
   "source": [
    "#### Conclusion:\n",
    " So generator function is faster if we need to create iterative objects."
   ]
  }
 ],
 "metadata": {
  "kernelspec": {
   "display_name": "Python 3.8.10 64-bit",
   "language": "python",
   "name": "python3"
  },
  "language_info": {
   "codemirror_mode": {
    "name": "ipython",
    "version": 3
   },
   "file_extension": ".py",
   "mimetype": "text/x-python",
   "name": "python",
   "nbconvert_exporter": "python",
   "pygments_lexer": "ipython3",
   "version": "3.8.10"
  },
  "vscode": {
   "interpreter": {
    "hash": "916dbcbb3f70747c44a77c7bcd40155683ae19c65e1c03b4aa3499c5328201f1"
   }
  }
 },
 "nbformat": 4,
 "nbformat_minor": 5
}
