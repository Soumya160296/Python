{
 "cells": [
  {
   "cell_type": "markdown",
   "metadata": {},
   "source": [
    "## Nested functions"
   ]
  },
  {
   "cell_type": "markdown",
   "metadata": {},
   "source": [
    "#### Example 1: Square using power calculation"
   ]
  },
  {
   "cell_type": "code",
   "execution_count": 3,
   "metadata": {},
   "outputs": [
    {
     "name": "stdout",
     "output_type": "stream",
     "text": [
      "[1, 4, 9, 16, 25]\n"
     ]
    }
   ],
   "source": [
    "#nested function \n",
    "\n",
    "#define a square function\n",
    "def square(x):\n",
    "\n",
    "    #define an inner function\n",
    "    def raisePower(num, power):\n",
    "        return num**power\n",
    "    \n",
    "    #Now use the inner function to calculate the outer function measure\n",
    "    square_ = raisePower(x,2)\n",
    "    return square_\n",
    "\n",
    "# call the function for couple of numbers    \n",
    "numbers =[1,2,3,4,5]\n",
    "\n",
    "results =list(map(square,numbers))\n",
    "print(results)"
   ]
  },
  {
   "cell_type": "markdown",
   "metadata": {},
   "source": [
    "- In the above example square() is the outer function or enclosing function.\n",
    "- raisePower() inner or nested function."
   ]
  },
  {
   "cell_type": "markdown",
   "metadata": {},
   "source": [
    "### Inner functions can access the enclosing scopes "
   ]
  },
  {
   "cell_type": "code",
   "execution_count": 4,
   "metadata": {},
   "outputs": [
    {
     "data": {
      "text/plain": [
       "16"
      ]
     },
     "execution_count": 4,
     "metadata": {},
     "output_type": "execute_result"
    }
   ],
   "source": [
    "\n",
    "#define a outer function\n",
    "def squareOfSquare(x):\n",
    "    \n",
    "    s = x**2\n",
    "    \n",
    "    #define an inner function\n",
    "    def raisePower(power):\n",
    "        squareOfSquare_ = s**power\n",
    "        #Here we accessed the enclosing function's variable\n",
    "        return squareOfSquare_\n",
    "\n",
    "    return raisePower(2)\n",
    "    #Here outer function is returning the inner function\n",
    "    # An exmple of a function returning another function.\n",
    "\n",
    "#call the outer function \n",
    "squareOfSquare(2)"
   ]
  },
  {
   "cell_type": "markdown",
   "metadata": {},
   "source": [
    "### but can't modify them normally"
   ]
  },
  {
   "cell_type": "code",
   "execution_count": 8,
   "metadata": {},
   "outputs": [
    {
     "ename": "UnboundLocalError",
     "evalue": "local variable 'x' referenced before assignment",
     "output_type": "error",
     "traceback": [
      "\u001b[0;31m---------------------------------------------------------------------------\u001b[0m",
      "\u001b[0;31mUnboundLocalError\u001b[0m                         Traceback (most recent call last)",
      "\u001b[1;32m/home/user/3 . pythonCore/FunctionsInPython/NestedFunctions.ipynb Cell 8\u001b[0m in \u001b[0;36m<cell line: 20>\u001b[0;34m()\u001b[0m\n\u001b[1;32m     <a href='vscode-notebook-cell:/home/user/3%20.%20pythonCore/FunctionsInPython/NestedFunctions.ipynb#X12sZmlsZQ%3D%3D?line=16'>17</a>\u001b[0m     \u001b[39mreturn\u001b[39;00m nextSquare() \u001b[39m-\u001b[39m square\n\u001b[1;32m     <a href='vscode-notebook-cell:/home/user/3%20.%20pythonCore/FunctionsInPython/NestedFunctions.ipynb#X12sZmlsZQ%3D%3D?line=18'>19</a>\u001b[0m \u001b[39m#call the outer function \u001b[39;00m\n\u001b[0;32m---> <a href='vscode-notebook-cell:/home/user/3%20.%20pythonCore/FunctionsInPython/NestedFunctions.ipynb#X12sZmlsZQ%3D%3D?line=19'>20</a>\u001b[0m diff_consecutive_squares(\u001b[39m3\u001b[39;49m)\n",
      "\u001b[1;32m/home/user/3 . pythonCore/FunctionsInPython/NestedFunctions.ipynb Cell 8\u001b[0m in \u001b[0;36mdiff_consecutive_squares\u001b[0;34m(x)\u001b[0m\n\u001b[1;32m     <a href='vscode-notebook-cell:/home/user/3%20.%20pythonCore/FunctionsInPython/NestedFunctions.ipynb#X12sZmlsZQ%3D%3D?line=12'>13</a>\u001b[0m     nextSquare_ \u001b[39m=\u001b[39m x\u001b[39m*\u001b[39m\u001b[39m*\u001b[39m\u001b[39m2\u001b[39m\n\u001b[1;32m     <a href='vscode-notebook-cell:/home/user/3%20.%20pythonCore/FunctionsInPython/NestedFunctions.ipynb#X12sZmlsZQ%3D%3D?line=14'>15</a>\u001b[0m     \u001b[39mreturn\u001b[39;00m nextSquare_\n\u001b[0;32m---> <a href='vscode-notebook-cell:/home/user/3%20.%20pythonCore/FunctionsInPython/NestedFunctions.ipynb#X12sZmlsZQ%3D%3D?line=16'>17</a>\u001b[0m \u001b[39mreturn\u001b[39;00m nextSquare() \u001b[39m-\u001b[39m square\n",
      "\u001b[1;32m/home/user/3 . pythonCore/FunctionsInPython/NestedFunctions.ipynb Cell 8\u001b[0m in \u001b[0;36mdiff_consecutive_squares.<locals>.nextSquare\u001b[0;34m()\u001b[0m\n\u001b[1;32m      <a href='vscode-notebook-cell:/home/user/3%20.%20pythonCore/FunctionsInPython/NestedFunctions.ipynb#X12sZmlsZQ%3D%3D?line=6'>7</a>\u001b[0m \u001b[39mdef\u001b[39;00m \u001b[39mnextSquare\u001b[39m():\n\u001b[1;32m      <a href='vscode-notebook-cell:/home/user/3%20.%20pythonCore/FunctionsInPython/NestedFunctions.ipynb#X12sZmlsZQ%3D%3D?line=7'>8</a>\u001b[0m \n\u001b[1;32m      <a href='vscode-notebook-cell:/home/user/3%20.%20pythonCore/FunctionsInPython/NestedFunctions.ipynb#X12sZmlsZQ%3D%3D?line=8'>9</a>\u001b[0m     \n\u001b[1;32m     <a href='vscode-notebook-cell:/home/user/3%20.%20pythonCore/FunctionsInPython/NestedFunctions.ipynb#X12sZmlsZQ%3D%3D?line=9'>10</a>\u001b[0m     \u001b[39m# increment x\u001b[39;00m\n\u001b[0;32m---> <a href='vscode-notebook-cell:/home/user/3%20.%20pythonCore/FunctionsInPython/NestedFunctions.ipynb#X12sZmlsZQ%3D%3D?line=10'>11</a>\u001b[0m     x \u001b[39m=\u001b[39m x\u001b[39m+\u001b[39m\u001b[39m1\u001b[39m\n\u001b[1;32m     <a href='vscode-notebook-cell:/home/user/3%20.%20pythonCore/FunctionsInPython/NestedFunctions.ipynb#X12sZmlsZQ%3D%3D?line=12'>13</a>\u001b[0m     nextSquare_ \u001b[39m=\u001b[39m x\u001b[39m*\u001b[39m\u001b[39m*\u001b[39m\u001b[39m2\u001b[39m\n\u001b[1;32m     <a href='vscode-notebook-cell:/home/user/3%20.%20pythonCore/FunctionsInPython/NestedFunctions.ipynb#X12sZmlsZQ%3D%3D?line=14'>15</a>\u001b[0m     \u001b[39mreturn\u001b[39;00m nextSquare_\n",
      "\u001b[0;31mUnboundLocalError\u001b[0m: local variable 'x' referenced before assignment"
     ]
    }
   ],
   "source": [
    "#define a outer function\n",
    "def diff_consecutive_squares(x):\n",
    "    \n",
    "    square = x**2\n",
    "    \n",
    "    #define an inner function\n",
    "    def nextSquare():\n",
    "\n",
    "        \n",
    "        # increment x\n",
    "        x = x+1\n",
    "\n",
    "        nextSquare_ = x**2\n",
    "       \n",
    "        return nextSquare_\n",
    "\n",
    "    return nextSquare() - square\n",
    "\n",
    "#call the outer function \n",
    "diff_consecutive_squares(3)"
   ]
  },
  {
   "cell_type": "markdown",
   "metadata": {},
   "source": [
    "- The reason is that, in the line ``` x = x+1 ```,  'x' is considered as a local variable to the inner function. And since inside the inner function 'x' is not defined and assigned a value that's why it is giving an error ```UnboundLocalError: local variable 'x' referenced before assignment```"
   ]
  },
  {
   "cell_type": "markdown",
   "metadata": {},
   "source": [
    "- To modify 'x' inside the inner function we have to mention that it is a non local variable. Then it will reference to the outer function variable 'x'"
   ]
  },
  {
   "cell_type": "code",
   "execution_count": 9,
   "metadata": {},
   "outputs": [
    {
     "data": {
      "text/plain": [
       "7"
      ]
     },
     "execution_count": 9,
     "metadata": {},
     "output_type": "execute_result"
    }
   ],
   "source": [
    "#define a outer function\n",
    "def diff_consecutive_squares(x):\n",
    "    \n",
    "    square = x**2\n",
    "    \n",
    "    #define an inner function\n",
    "    def nextSquare():\n",
    "\n",
    "        \n",
    "        # increment x by specifying that it is a non local variable\n",
    "        nonlocal x\n",
    "        x = x+1\n",
    "\n",
    "        nextSquare_ = x**2\n",
    "       \n",
    "        return nextSquare_\n",
    "\n",
    "    return nextSquare() - square\n",
    "\n",
    "#call the outer function \n",
    "diff_consecutive_squares(3)"
   ]
  },
  {
   "cell_type": "markdown",
   "metadata": {},
   "source": [
    "#### Pass a function as a parameter to another function"
   ]
  },
  {
   "cell_type": "code",
   "execution_count": 2,
   "metadata": {},
   "outputs": [
    {
     "data": {
      "text/plain": [
       "55"
      ]
     },
     "execution_count": 2,
     "metadata": {},
     "output_type": "execute_result"
    }
   ],
   "source": [
    "#define a function to add first n natural numbers\n",
    "def add_numbers(n):\n",
    "    result = 0\n",
    "    for i in range(1,n+1):\n",
    "        result = result + i\n",
    "    return result\n",
    "\n",
    "\n",
    "# Now define another function to call this function \n",
    "\n",
    "def functionCaller(a_function,n):\n",
    "    return a_function(n)\n",
    "#Here we passed a function as a parameter to another function\n",
    "\n",
    "#Now call the second function by passing the first function\n",
    "\n",
    "functionCaller(add_numbers,10)\n"
   ]
  },
  {
   "cell_type": "markdown",
   "metadata": {},
   "source": [
    "### A function can return another function\n",
    "#### In nested functions the outer function can return the inner function\n",
    "Then comes the concept of closure\n",
    "\n",
    "#### Criteria to define closures:\n",
    "- It is necessary to have nested function.\n",
    "- The inner function should refer to variables from enclosing function.\n",
    "- Nested function must returned by enclosing function."
   ]
  },
  {
   "cell_type": "code",
   "execution_count": 24,
   "metadata": {},
   "outputs": [
    {
     "data": {
      "text/plain": [
       "16"
      ]
     },
     "execution_count": 24,
     "metadata": {},
     "output_type": "execute_result"
    }
   ],
   "source": [
    "#define a outer function\n",
    "def squareOfSquare(x):\n",
    "    \n",
    "    s = x**2\n",
    "    \n",
    "    #define an inner function\n",
    "    def raisePower(power):\n",
    "        squareOfSquare_ = s**power\n",
    "        #inner function refering to the enclosing function variable.\n",
    "        return squareOfSquare_\n",
    "\n",
    "        del globals()['s']\n",
    "\n",
    "    return raisePower(2)\n",
    "    #Here outer function is returning the inner function\n",
    "\n",
    "#call the outer function \n",
    "squareOfSquare(2)"
   ]
  },
  {
   "cell_type": "markdown",
   "metadata": {},
   "source": [
    "- When the interpreter detects the dependency of inner nested function on the outer function, it makes sure that the variables in which inner function depends on are available even if the outer function goes away.\n",
    "\n",
    "- If we delete the outer function then technically the variable y should vanished away with outer function,but variable y still bound to the inner function.\n"
   ]
  }
 ],
 "metadata": {
  "kernelspec": {
   "display_name": "Python 3.8.10 64-bit",
   "language": "python",
   "name": "python3"
  },
  "language_info": {
   "codemirror_mode": {
    "name": "ipython",
    "version": 3
   },
   "file_extension": ".py",
   "mimetype": "text/x-python",
   "name": "python",
   "nbconvert_exporter": "python",
   "pygments_lexer": "ipython3",
   "version": "3.8.10"
  },
  "orig_nbformat": 4,
  "vscode": {
   "interpreter": {
    "hash": "916dbcbb3f70747c44a77c7bcd40155683ae19c65e1c03b4aa3499c5328201f1"
   }
  }
 },
 "nbformat": 4,
 "nbformat_minor": 2
}
