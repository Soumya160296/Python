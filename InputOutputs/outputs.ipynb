{
 "cells": [
  {
   "cell_type": "markdown",
   "metadata": {},
   "source": [
    "### Printing strings only"
   ]
  },
  {
   "cell_type": "code",
   "execution_count": 38,
   "metadata": {},
   "outputs": [
    {
     "name": "stdout",
     "output_type": "stream",
     "text": [
      "Hello I am writing codes in python\n",
      "word 1  word 2\n",
      "Word 1\n"
     ]
    }
   ],
   "source": [
    "print('Hello I am writing codes in python')\n",
    "print('word 1 ', 'word 2')\n",
    "print('Word' + ' '  +  str(1))"
   ]
  },
  {
   "cell_type": "markdown",
   "metadata": {},
   "source": [
    "### Printing variables only"
   ]
  },
  {
   "cell_type": "code",
   "execution_count": 29,
   "metadata": {},
   "outputs": [
    {
     "name": "stdout",
     "output_type": "stream",
     "text": [
      "10 Hola 132.45 (4-3j)\n",
      "10|Hola|132.45|(4-3j)\n",
      "10____Hola____132.45____(4-3j)OK"
     ]
    }
   ],
   "source": [
    "\n",
    "x = 10\n",
    "y = 'Hola'\n",
    "z = 132.45\n",
    "w = complex(4,-3)\n",
    "\n",
    "# Way 1\n",
    "print(x,y,z,w)\n",
    "\n",
    "#Way 2\n",
    "# Specify the separator (Default one is a single '' dash)\n",
    "print(x,y,z,w,sep='|')\n",
    "\n",
    "#Way 3\n",
    "# Specify the end= (what will be printed at the end of the line)\n",
    "# By default end = \\n\n",
    "\n",
    "print(x,y,z,w,sep='____' ,end='OK')"
   ]
  },
  {
   "cell_type": "markdown",
   "metadata": {},
   "source": [
    "### Printing string and varaiables together"
   ]
  },
  {
   "cell_type": "markdown",
   "metadata": {},
   "source": [
    "#### String and single variable"
   ]
  },
  {
   "cell_type": "code",
   "execution_count": 10,
   "metadata": {},
   "outputs": [
    {
     "name": "stdout",
     "output_type": "stream",
     "text": [
      "Values of x is: 100\n"
     ]
    }
   ],
   "source": [
    "x , y  = 100, 200 \n",
    "print('Values of x is:',x)"
   ]
  },
  {
   "cell_type": "markdown",
   "metadata": {},
   "source": [
    "#### String and multiple variables\n",
    "#### Way 1: Separating by commas"
   ]
  },
  {
   "cell_type": "code",
   "execution_count": 14,
   "metadata": {},
   "outputs": [
    {
     "name": "stdout",
     "output_type": "stream",
     "text": [
      "Value of x: 100 and value of y: 200\n"
     ]
    }
   ],
   "source": [
    "print('Value of x:', x,'and', 'value of y:',y)"
   ]
  },
  {
   "cell_type": "markdown",
   "metadata": {},
   "source": [
    "#### Way 2: Using format function"
   ]
  },
  {
   "cell_type": "code",
   "execution_count": 19,
   "metadata": {},
   "outputs": [
    {
     "name": "stdout",
     "output_type": "stream",
     "text": [
      "Value of x = 100 and value of y = 200\n",
      "Value of x = 100 and value of y = 200\n"
     ]
    }
   ],
   "source": [
    "print('Value of x = {} and value of y = {}'.format(x,y))\n",
    "\n",
    "# Or we can also specify index of the variables we gonna print using format\n",
    "print('Value of x = {0} and value of y = {1}'.format(x,y))\n"
   ]
  },
  {
   "cell_type": "markdown",
   "metadata": {},
   "source": [
    "### Way 3: The most optimized way"
   ]
  },
  {
   "cell_type": "code",
   "execution_count": 35,
   "metadata": {},
   "outputs": [
    {
     "data": {
      "text/plain": [
       "\"Employee Skk with no': 12 joined the company in  2016 during Referendum\""
      ]
     },
     "execution_count": 35,
     "metadata": {},
     "output_type": "execute_result"
    }
   ],
   "source": [
    "no = 12\n",
    "name = 'Skk'\n",
    "year = 2016\n",
    "event = 'Referendum'\n",
    "#Yes just f\"string and variables\"\n",
    "f\"Employee {name} with no': {no} joined the company in  {year} during {event}\""
   ]
  }
 ],
 "metadata": {
  "kernelspec": {
   "display_name": "Python 3.8.10 64-bit",
   "language": "python",
   "name": "python3"
  },
  "language_info": {
   "codemirror_mode": {
    "name": "ipython",
    "version": 3
   },
   "file_extension": ".py",
   "mimetype": "text/x-python",
   "name": "python",
   "nbconvert_exporter": "python",
   "pygments_lexer": "ipython3",
   "version": "3.8.10"
  },
  "orig_nbformat": 4,
  "vscode": {
   "interpreter": {
    "hash": "916dbcbb3f70747c44a77c7bcd40155683ae19c65e1c03b4aa3499c5328201f1"
   }
  }
 },
 "nbformat": 4,
 "nbformat_minor": 2
}
