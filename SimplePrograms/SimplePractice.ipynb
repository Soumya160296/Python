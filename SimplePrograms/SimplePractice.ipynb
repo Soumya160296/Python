{
 "cells": [
  {
   "cell_type": "markdown",
   "metadata": {},
   "source": [
    "## Python Program to check Amstrong number\n",
    "\n",
    "### Way 1: Using for loops"
   ]
  },
  {
   "cell_type": "code",
   "execution_count": 10,
   "metadata": {},
   "outputs": [
    {
     "data": {
      "text/plain": [
       "'Yes'"
      ]
     },
     "execution_count": 10,
     "metadata": {},
     "output_type": "execute_result"
    }
   ],
   "source": [
    "\n",
    "def cubesum(n):\n",
    "    num = str(int(n))\n",
    "    inum = []\n",
    "    for i in range(len(num)):\n",
    "        inum.append((int(num[i]))**3)\n",
    "    return sum(inum)\n",
    "\n",
    "def isAmstrong(n):\n",
    "    if n == cubesum(n):\n",
    "        return 'Yes'\n",
    "    else:\n",
    "        return 'NO'\n",
    "\n",
    "isAmstrong(153)"
   ]
  },
  {
   "cell_type": "markdown",
   "metadata": {},
   "source": [
    "### Way 2: Using map() and lambda function"
   ]
  },
  {
   "cell_type": "code",
   "execution_count": 11,
   "metadata": {},
   "outputs": [
    {
     "name": "stdout",
     "output_type": "stream",
     "text": [
      "Yes\n"
     ]
    }
   ],
   "source": [
    "def isAms(n):\n",
    "    num = list(map(int, str(n)))\n",
    "    cube = list(map(lambda x: x**3, num))\n",
    "    if sum(cube) == n:\n",
    "        print('Yes')\n",
    "    else:\n",
    "        print('No')\n",
    "isAms(153)"
   ]
  },
  {
   "cell_type": "markdown",
   "metadata": {},
   "source": [
    "### Find the products of the digits of a number."
   ]
  },
  {
   "cell_type": "code",
   "execution_count": 12,
   "metadata": {},
   "outputs": [
    {
     "data": {
      "text/plain": [
       "6"
      ]
     },
     "execution_count": 12,
     "metadata": {},
     "output_type": "execute_result"
    }
   ],
   "source": [
    "def digitProd(n):\n",
    "    num = list(map(int, str(n)))\n",
    "    prod = 1\n",
    "    for i in num:\n",
    "        prod = prod*i \n",
    "\n",
    "    return prod\n",
    "\n",
    "digitProd(123)"
   ]
  },
  {
   "cell_type": "markdown",
   "metadata": {},
   "source": [
    "### Sum of divisors of a number"
   ]
  },
  {
   "cell_type": "code",
   "execution_count": 13,
   "metadata": {},
   "outputs": [
    {
     "data": {
      "text/plain": [
       "18"
      ]
     },
     "execution_count": 13,
     "metadata": {},
     "output_type": "execute_result"
    }
   ],
   "source": [
    "def sumDivs(n):\n",
    "    n=int(n)\n",
    "    divs =  []\n",
    "    for i in range(1,n+1):\n",
    "        if n %i == 0:\n",
    "            divs.append(i)\n",
    "    return sum(divs)\n",
    "\n",
    "sumDivs(10)"
   ]
  },
  {
   "cell_type": "markdown",
   "metadata": {},
   "source": [
    "### Amicable numbers\n",
    "Two numbers are amicable if the sum of divisors for them are same"
   ]
  },
  {
   "cell_type": "code",
   "execution_count": 14,
   "metadata": {},
   "outputs": [
    {
     "data": {
      "text/plain": [
       "'They are not amicable'"
      ]
     },
     "execution_count": 14,
     "metadata": {},
     "output_type": "execute_result"
    }
   ],
   "source": [
    "def isAmicable(x,y):\n",
    "    if sumDivs(x) == y and sumDivs(y) == x:\n",
    "        return 'Yes they are amicable'\n",
    "    else:\n",
    "        return 'They are not amicable'\n",
    "isAmicable(220,284)"
   ]
  },
  {
   "cell_type": "markdown",
   "metadata": {},
   "source": [
    "### Sorting alphabets and numbers given together\n",
    "e.g: Sort BADE9824 as ABDE2489"
   ]
  },
  {
   "cell_type": "code",
   "execution_count": 58,
   "metadata": {},
   "outputs": [
    {
     "name": "stdout",
     "output_type": "stream",
     "text": [
      "abde2489\n"
     ]
    }
   ],
   "source": [
    "from curses.ascii import isalpha\n",
    "\n",
    "\n",
    "#inp = input('Enter the string')\n",
    "\n",
    "inp ='bdae9824'\n",
    "inputs = list(map(str,inp))\n",
    "\n",
    "\n",
    "alphas = []\n",
    "nums = []\n",
    "\n",
    "for i in inputs:\n",
    "    if i.isalpha():\n",
    "        alphas.append(i)  #if alphabet then add here.\n",
    "    elif i.isnumeric():\n",
    "        nums.append(i)   # if numeric then add here.\n",
    "    else:\n",
    "        pass\n",
    "alphabets = sorted(alphas)\n",
    "alphabets = ''.join(alphabets)\n",
    "nums = sorted(nums)\n",
    "nums = ''.join(nums)\n",
    "final = alphabets+nums\n",
    "print(final)"
   ]
  },
  {
   "cell_type": "code",
   "execution_count": 62,
   "metadata": {},
   "outputs": [
    {
     "name": "stdout",
     "output_type": "stream",
     "text": [
      "98\n"
     ]
    }
   ],
   "source": [
    "limit = 20\n",
    "\n",
    "mul = []\n",
    "\n",
    "for i in range(1,limit+1):\n",
    "    if i%3 == 0 or i% 5 == 0:\n",
    "        mul.append(i)\n",
    "print(sum(mul))\n"
   ]
  },
  {
   "cell_type": "code",
   "execution_count": 67,
   "metadata": {},
   "outputs": [
    {
     "data": {
      "text/plain": [
       "[3, 5, 6, 9, 10, 12, 15, 18, 20]"
      ]
     },
     "execution_count": 67,
     "metadata": {},
     "output_type": "execute_result"
    }
   ],
   "source": [
    "mul"
   ]
  },
  {
   "cell_type": "code",
   "execution_count": 68,
   "metadata": {},
   "outputs": [],
   "source": [
    "mul[2]=[]"
   ]
  },
  {
   "cell_type": "code",
   "execution_count": 71,
   "metadata": {},
   "outputs": [
    {
     "name": "stdout",
     "output_type": "stream",
     "text": [
      "20 10\n"
     ]
    }
   ],
   "source": [
    "a , b = 10, 20\n",
    "a = a+b\n",
    "b= a -b \n",
    "a = a - b\n",
    "print(a, b)"
   ]
  },
  {
   "cell_type": "markdown",
   "metadata": {},
   "source": [
    "### Compute n + nn + nnn  taking n as input\n",
    "e.g: 3+33 +333 "
   ]
  },
  {
   "cell_type": "code",
   "execution_count": 72,
   "metadata": {},
   "outputs": [
    {
     "data": {
      "text/plain": [
       "369"
      ]
     },
     "execution_count": 72,
     "metadata": {},
     "output_type": "execute_result"
    }
   ],
   "source": [
    "def compute(n):\n",
    "    nn = n*10 + n\n",
    "    nnn = n*100 + n*10 + n\n",
    "    return n+nn+nnn\n",
    "compute (3)"
   ]
  }
 ],
 "metadata": {
  "kernelspec": {
   "display_name": "Python 3.8.10 64-bit",
   "language": "python",
   "name": "python3"
  },
  "language_info": {
   "codemirror_mode": {
    "name": "ipython",
    "version": 3
   },
   "file_extension": ".py",
   "mimetype": "text/x-python",
   "name": "python",
   "nbconvert_exporter": "python",
   "pygments_lexer": "ipython3",
   "version": "3.8.10"
  },
  "orig_nbformat": 4,
  "vscode": {
   "interpreter": {
    "hash": "916dbcbb3f70747c44a77c7bcd40155683ae19c65e1c03b4aa3499c5328201f1"
   }
  }
 },
 "nbformat": 4,
 "nbformat_minor": 2
}
