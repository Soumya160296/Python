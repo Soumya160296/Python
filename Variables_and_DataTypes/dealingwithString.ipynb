{
 "cells": [
  {
   "cell_type": "markdown",
   "metadata": {},
   "source": [
    "## 'This is a string in python'\n"
   ]
  },
  {
   "cell_type": "markdown",
   "metadata": {},
   "source": [
    "### Single and multiple string"
   ]
  },
  {
   "cell_type": "code",
   "execution_count": 4,
   "metadata": {},
   "outputs": [
    {
     "name": "stdout",
     "output_type": "stream",
     "text": [
      "Lorem ipsum dolor sit amet,\n",
      "consectetur adipiscing elit,\n",
      "sed do eiusmod tempor incididunt\n",
      "ut labore et dolore magna aliqua.\n",
      "Hello my name is Shahrukh.I am learning python\n"
     ]
    }
   ],
   "source": [
    "s = 'This is a string in python'\n",
    "# Multiple strings\n",
    "ms = \"\"\"Lorem ipsum dolor sit amet,\n",
    "consectetur adipiscing elit,\n",
    "sed do eiusmod tempor incididunt\n",
    "ut labore et dolore magna aliqua.\"\"\"\n",
    "\n",
    "print(ms)\n",
    "print('Hello my name is \\\n",
    "Shahrukh.\\\n",
    "I am learning python')"
   ]
  },
  {
   "cell_type": "markdown",
   "metadata": {},
   "source": [
    "### String slicing"
   ]
  },
  {
   "cell_type": "code",
   "execution_count": 9,
   "metadata": {},
   "outputs": [
    {
     "name": "stdout",
     "output_type": "stream",
     "text": [
      "The string contains total characters: 27\n"
     ]
    }
   ],
   "source": [
    "# Number of total charaters in the string\n",
    "s = 'Hello! I am learning Python'\n",
    "print('The string contains total characters:',len(s))"
   ]
  },
  {
   "cell_type": "markdown",
   "metadata": {},
   "source": [
    "#### In python in forward direction index starts from 0 (zero) and in the backward direction index starts from -1."
   ]
  },
  {
   "cell_type": "code",
   "execution_count": 11,
   "metadata": {},
   "outputs": [
    {
     "data": {
      "text/plain": [
       "'H'"
      ]
     },
     "execution_count": 11,
     "metadata": {},
     "output_type": "execute_result"
    }
   ],
   "source": [
    "# Slice the firsr character\n",
    "s[0]"
   ]
  },
  {
   "cell_type": "code",
   "execution_count": 12,
   "metadata": {},
   "outputs": [
    {
     "data": {
      "text/plain": [
       "'n'"
      ]
     },
     "execution_count": 12,
     "metadata": {},
     "output_type": "execute_result"
    }
   ],
   "source": [
    "# Slice the last charater\n",
    "s[-1]"
   ]
  },
  {
   "cell_type": "markdown",
   "metadata": {},
   "source": [
    "s[0:6] will give the charaters at index 0,1,2,3,4,5 not at 6.\n",
    "-  Because 1 is always substracted from the last specified number."
   ]
  },
  {
   "cell_type": "code",
   "execution_count": 14,
   "metadata": {},
   "outputs": [
    {
     "data": {
      "text/plain": [
       "'Hello'"
      ]
     },
     "execution_count": 14,
     "metadata": {},
     "output_type": "execute_result"
    }
   ],
   "source": [
    "# slice the first 5 characters\n",
    "s[0:5]"
   ]
  },
  {
   "cell_type": "markdown",
   "metadata": {},
   "source": [
    "#### We can consider a string as a list and every character in the string (including space and any symbols) as an element of the list."
   ]
  },
  {
   "cell_type": "markdown",
   "metadata": {},
   "source": [
    "Although negative index starts from backward direction but slicing always happens in forward direction. I.e.  when we need to  slice last 5 characters we need to mention like-\n",
    "```\n",
    "s[-5:]  \n",
    "# Not like \n",
    "s[-5:-1]   \n",
    "# this will slice for the index  -5, -4, .... till (-1-1) = -2. Since index ing starts from 0 and 1 is always substracted from the last specified index.\n",
    "\n",
    "# Not like\n",
    "s[-1:-5]\n",
    "# By default python always slice in forward direction, it doesn't matter whether indeces are mentioned in forward order or backward order.\n",
    "```"
   ]
  },
  {
   "cell_type": "code",
   "execution_count": 26,
   "metadata": {},
   "outputs": [
    {
     "data": {
      "text/plain": [
       "'ython'"
      ]
     },
     "execution_count": 26,
     "metadata": {},
     "output_type": "execute_result"
    }
   ],
   "source": [
    "# Slice the last 5 characters\n",
    "s[-5:] "
   ]
  },
  {
   "cell_type": "code",
   "execution_count": 28,
   "metadata": {},
   "outputs": [
    {
     "data": {
      "text/plain": [
       "''"
      ]
     },
     "execution_count": 28,
     "metadata": {},
     "output_type": "execute_result"
    }
   ],
   "source": [
    "s[-1:-5]"
   ]
  },
  {
   "cell_type": "markdown",
   "metadata": {},
   "source": [
    "#### We can use every character of the string as an iterable\n"
   ]
  },
  {
   "cell_type": "code",
   "execution_count": 44,
   "metadata": {},
   "outputs": [
    {
     "name": "stdout",
     "output_type": "stream",
     "text": [
      "A\n",
      "B\n",
      "C\n",
      "D\n",
      "e\n",
      "f\n",
      "g\n",
      "h\n",
      "n\n",
      "g\n"
     ]
    }
   ],
   "source": [
    "s='ABCDefghng'\n",
    "for i in s:\n",
    "    print(i)"
   ]
  },
  {
   "cell_type": "markdown",
   "metadata": {},
   "source": [
    "## Modify strings"
   ]
  },
  {
   "cell_type": "code",
   "execution_count": 43,
   "metadata": {},
   "outputs": [
    {
     "name": "stdout",
     "output_type": "stream",
     "text": [
      " I AM CODING IN PYTHON \n",
      " i am coding in python \n",
      "Shahrukh\n"
     ]
    },
    {
     "data": {
      "text/plain": [
       "'Shahrukh'"
      ]
     },
     "execution_count": 43,
     "metadata": {},
     "output_type": "execute_result"
    }
   ],
   "source": [
    "s = ' I am coding in Python '\n",
    "\n",
    "# Make all uppercase\n",
    "print(s.upper())\n",
    "\n",
    "# Make all lowercase\n",
    "print(s.lower())\n",
    "\n",
    "s2= 'shahrukh'\n",
    "#Make the first letter Capital\n",
    "print(s2[0].upper()+s2[1:])\n",
    "\n",
    "# Or use the capitalize() function.\n",
    "s2.capitalize()"
   ]
  },
  {
   "cell_type": "markdown",
   "metadata": {},
   "source": [
    "strip() function to remove white spaces from the beginning or at the end"
   ]
  },
  {
   "cell_type": "code",
   "execution_count": 38,
   "metadata": {},
   "outputs": [
    {
     "name": "stdout",
     "output_type": "stream",
     "text": [
      " I am coding in Python  23\n",
      "I am coding in Python 21\n"
     ]
    }
   ],
   "source": [
    "print(s, len(s))\n",
    "print(s.strip(),len(s.strip()))"
   ]
  },
  {
   "cell_type": "markdown",
   "metadata": {},
   "source": [
    "Replace a specific character or a word.\n",
    "```\n",
    "string.replace('old_chracter', 'by_new_character')\n",
    "```"
   ]
  },
  {
   "cell_type": "code",
   "execution_count": 39,
   "metadata": {},
   "outputs": [
    {
     "data": {
      "text/plain": [
       "' I am coding in SQL '"
      ]
     },
     "execution_count": 39,
     "metadata": {},
     "output_type": "execute_result"
    }
   ],
   "source": [
    "s.replace('Python', 'SQL')"
   ]
  },
  {
   "cell_type": "markdown",
   "metadata": {},
   "source": [
    "## Split and cancatenate strings"
   ]
  },
  {
   "cell_type": "markdown",
   "metadata": {},
   "source": [
    "#### Split()\n",
    "```\n",
    "string.split(\"delimeter\")\n",
    "```"
   ]
  },
  {
   "cell_type": "code",
   "execution_count": 40,
   "metadata": {},
   "outputs": [
    {
     "name": "stdout",
     "output_type": "stream",
     "text": [
      "['Hello', ' World!', ' How are you']\n"
     ]
    }
   ],
   "source": [
    "a = \"Hello, World!, How are you\"\n",
    "print(a.split(\",\")) \n",
    "#It separates/splits the full string into multiple strings\n",
    "# whereever the delemeter is there"
   ]
  },
  {
   "cell_type": "markdown",
   "metadata": {},
   "source": [
    "### String joining"
   ]
  },
  {
   "cell_type": "markdown",
   "metadata": {},
   "source": [
    "#### Way 1: Joining all strings simply using '+' operator."
   ]
  },
  {
   "cell_type": "code",
   "execution_count": 42,
   "metadata": {},
   "outputs": [
    {
     "name": "stdout",
     "output_type": "stream",
     "text": [
      "Hello World!\n"
     ]
    }
   ],
   "source": [
    "str1 = 'Hello'\n",
    "str2 = 'World'\n",
    "# Simply add them like numerical addition to join\n",
    "print(str1+\" \" + str2+\"!\")"
   ]
  },
  {
   "cell_type": "markdown",
   "metadata": {},
   "source": [
    "#### Way 2: Joining iterable strings using join() methods\n",
    "The join() method takes all items in an iterable and joins them into one string.\n",
    "```\n",
    "'Delimeter'.join(iterableObject)"
   ]
  },
  {
   "cell_type": "code",
   "execution_count": 48,
   "metadata": {},
   "outputs": [
    {
     "name": "stdout",
     "output_type": "stream",
     "text": [
      "John Peter Vicky\n"
     ]
    }
   ],
   "source": [
    "myTuple = (\"John\", \"Peter\", \"Vicky\")\n",
    "\n",
    "x = ' '.join(myTuple)\n",
    "\n",
    "print(x)"
   ]
  },
  {
   "cell_type": "markdown",
   "metadata": {},
   "source": [
    "#### Way 3: Joining string and numerical using format() and spaceholders{}"
   ]
  },
  {
   "cell_type": "code",
   "execution_count": 51,
   "metadata": {},
   "outputs": [
    {
     "name": "stdout",
     "output_type": "stream",
     "text": [
      "See how we can print a string and a number lets say 100 together\n"
     ]
    }
   ],
   "source": [
    "print('See how we can print a string and a number \\\n",
    "lets say {} together'.format(100))"
   ]
  },
  {
   "cell_type": "markdown",
   "metadata": {},
   "source": [
    "#### Check for a particular character(s) whether it is present in the full string or not"
   ]
  },
  {
   "cell_type": "code",
   "execution_count": 54,
   "metadata": {},
   "outputs": [
    {
     "name": "stdout",
     "output_type": "stream",
     "text": [
      "Yes it is there\n",
      "Yes the word is not here\n"
     ]
    }
   ],
   "source": [
    "word_looking_for = 'coding'\n",
    "another_word = 'Good'\n",
    "the_sentence = 'Python is a useful coding language.'\n",
    "\n",
    "if word_looking_for in the_sentence:\n",
    "    print('Yes it is there')\n",
    "else:\n",
    "    print('No its not there')\n",
    "\n",
    "if another_word not in the_sentence:\n",
    "    print('Yes the word is not here')"
   ]
  }
 ],
 "metadata": {
  "kernelspec": {
   "display_name": "Python 3.8.10 64-bit",
   "language": "python",
   "name": "python3"
  },
  "language_info": {
   "codemirror_mode": {
    "name": "ipython",
    "version": 3
   },
   "file_extension": ".py",
   "mimetype": "text/x-python",
   "name": "python",
   "nbconvert_exporter": "python",
   "pygments_lexer": "ipython3",
   "version": "3.8.10"
  },
  "orig_nbformat": 4,
  "vscode": {
   "interpreter": {
    "hash": "916dbcbb3f70747c44a77c7bcd40155683ae19c65e1c03b4aa3499c5328201f1"
   }
  }
 },
 "nbformat": 4,
 "nbformat_minor": 2
}
