{
 "cells": [
  {
   "cell_type": "code",
   "execution_count": 5,
   "metadata": {},
   "outputs": [
    {
     "data": {
      "text/plain": [
       "3"
      ]
     },
     "execution_count": 5,
     "metadata": {},
     "output_type": "execute_result"
    }
   ],
   "source": [
    "import sys\n",
    "a = []  # a is created so reference count = 1\n",
    "b = a   # a is referenced here so count = 2\n",
    "a.append(2)\n",
    "sys.getrefcount(a)   #a is referenced again so count = 3"
   ]
  },
  {
   "cell_type": "markdown",
   "metadata": {},
   "source": [
    "### Check memory location id of immutable objects"
   ]
  },
  {
   "cell_type": "code",
   "execution_count": 9,
   "metadata": {},
   "outputs": [
    {
     "name": "stdout",
     "output_type": "stream",
     "text": [
      "a =  100\n",
      "Identity of a:  9804416\n",
      "a =  200\n",
      "Identity of a:  9807616\n",
      "a =  201\n",
      "Identity of a:  9807648\n"
     ]
    }
   ],
   "source": [
    "a = 100\n",
    "'''The id() function returns a unique id for the specified object.\n",
    "All objects in Python has its own unique id. \n",
    "The id is assigned to the object when it is created.\n",
    "'''\n",
    "#print id of a\n",
    "print('a = ',a)\n",
    "print('Identity of a: ',id(a))\n",
    "\n",
    "a = 200\n",
    "print('a = ',a)\n",
    "print('Identity of a: ',id(a))\n",
    "\n",
    "#increment a \n",
    "a = 200 + 1\n",
    "#Now print id of a \n",
    "print('a = ',a)\n",
    "print('Identity of a: ',id(a))"
   ]
  },
  {
   "cell_type": "markdown",
   "metadata": {},
   "source": [
    "#### This means that the first a, second a, and third a are 3 different integer objects stored in different locations in the memory. 'a' is just a variable name refering to different objects different times."
   ]
  },
  {
   "cell_type": "markdown",
   "metadata": {},
   "source": [
    "### Check memory location id of mutable objects"
   ]
  },
  {
   "cell_type": "code",
   "execution_count": 13,
   "metadata": {},
   "outputs": [
    {
     "name": "stdout",
     "output_type": "stream",
     "text": [
      "Values of l:  []\n",
      "139728333206656\n",
      "Values of l:  [23, 'Nice']\n",
      "139728333206656\n",
      "Values of l:  [23]\n",
      "139728333206656\n"
     ]
    }
   ],
   "source": [
    "# define a list l\n",
    "l = []\n",
    "# print values of l\n",
    "print('Values of l: ',l)\n",
    "\n",
    "#print id of l\n",
    "print(id(l))\n",
    "\n",
    "\n",
    "#change l\n",
    "l.append(23)\n",
    "l.append('Nice')\n",
    "# print values of l\n",
    "print('Values of l: ',l)\n",
    "\n",
    "#print id of l\n",
    "print(id(l))\n",
    "\n",
    "\n",
    "#change l\n",
    "l.pop()\n",
    "# print values of l\n",
    "print('Values of l: ',l)\n",
    "\n",
    "#print id of l\n",
    "print(id(l))\n",
    "\n",
    "# We can see the identity of l is same each time\n"
   ]
  }
 ],
 "metadata": {
  "kernelspec": {
   "display_name": "Python 3.8.10 64-bit",
   "language": "python",
   "name": "python3"
  },
  "language_info": {
   "codemirror_mode": {
    "name": "ipython",
    "version": 3
   },
   "file_extension": ".py",
   "mimetype": "text/x-python",
   "name": "python",
   "nbconvert_exporter": "python",
   "pygments_lexer": "ipython3",
   "version": "3.8.10"
  },
  "orig_nbformat": 4,
  "vscode": {
   "interpreter": {
    "hash": "916dbcbb3f70747c44a77c7bcd40155683ae19c65e1c03b4aa3499c5328201f1"
   }
  }
 },
 "nbformat": 4,
 "nbformat_minor": 2
}
