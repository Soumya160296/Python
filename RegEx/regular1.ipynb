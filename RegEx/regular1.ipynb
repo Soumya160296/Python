{
 "cells": [
  {
   "attachments": {},
   "cell_type": "markdown",
   "metadata": {},
   "source": [
    "## Regular Expressions\n",
    "\n",
    "#### 1. Pattern matching functions"
   ]
  },
  {
   "cell_type": "code",
   "execution_count": 2,
   "metadata": {},
   "outputs": [],
   "source": [
    "#import the required library\n",
    "import re"
   ]
  },
  {
   "attachments": {},
   "cell_type": "markdown",
   "metadata": {},
   "source": [
    "### a) match()"
   ]
  },
  {
   "cell_type": "code",
   "execution_count": 16,
   "metadata": {},
   "outputs": [
    {
     "name": "stdout",
     "output_type": "stream",
     "text": [
      "<class 'NoneType'>\n",
      "None\n",
      "<class 're.Match'>\n",
      "<re.Match object; span=(0, 8), match='Learning'>\n",
      "Getting matching information manually\n",
      "0\n",
      "8\n",
      "(0, 8)\n",
      "Learning\n"
     ]
    }
   ],
   "source": [
    "#define the string where we are searching for\n",
    "string = 'Learning Python is easy. Python is helpful. Now a days Python is in demand.'\n",
    "         #01234567\n",
    "         #12345678\n",
    "#looking for pattern\n",
    "pattern1 = 'Python'\n",
    "\n",
    "pattern2 = 'Learning'\n",
    "\n",
    "m1 = re.match(pattern1,string)\n",
    "\n",
    "m2 = re.search(pattern2,string)\n",
    "\n",
    "#know the type\n",
    "print(type(m1))  #it will be None type as no match was found at the begining of the string\n",
    "\n",
    "print(m1)\n",
    "\n",
    "\n",
    "print(type(m2))  #it will be a re.Match object\n",
    "\n",
    "print(m2)  #it show the information about the match.\n",
    "\n",
    "#we can print the matching information manually \n",
    "\n",
    "print('Getting matching information manually')\n",
    "\n",
    "if m2:    #if there is any match\n",
    "    \n",
    "    print(m2.start())   #gives starting index\n",
    "    print(m2.end())     #gives ending position = ending index + 1\n",
    "    print(m2.span())\n",
    "    print(m2.group())   #groups the matching patterns\n",
    "\n"
   ]
  },
  {
   "attachments": {},
   "cell_type": "markdown",
   "metadata": {},
   "source": [
    "### b) search()"
   ]
  },
  {
   "cell_type": "code",
   "execution_count": 25,
   "metadata": {},
   "outputs": [
    {
     "name": "stdout",
     "output_type": "stream",
     "text": [
      "<class 're.Match'>\n",
      "<re.Match object; span=(9, 15), match='Python'>\n",
      "Python\n",
      "(9, 15)\n",
      "None\n"
     ]
    }
   ],
   "source": [
    "#define the string where we are searching for\n",
    "string = 'Learning Python is easy. Python is helpful. Now a days Python is in demand.'\n",
    "\n",
    "#looking for pattern\n",
    "pattern1 = 'Python'\n",
    "\n",
    "pattern2 = 'ajebaje'\n",
    "\n",
    "s1 = re.search(pattern1,string)\n",
    "\n",
    "s2 = re.search(pattern2,string)\n",
    "\n",
    "#know the type\n",
    "print(type(s1))  \n",
    "\n",
    "print(s1)\n",
    "\n",
    "if s1:\n",
    "    print(s1.group())\n",
    "    print(s1.span())\n",
    "\n",
    "\n",
    "print(s2)\n"
   ]
  },
  {
   "attachments": {},
   "cell_type": "markdown",
   "metadata": {},
   "source": [
    "### c) fullmatch()"
   ]
  },
  {
   "cell_type": "code",
   "execution_count": 29,
   "metadata": {},
   "outputs": [
    {
     "name": "stdout",
     "output_type": "stream",
     "text": [
      "<class 'NoneType'>\n",
      "None\n",
      "<class 're.Match'>\n",
      "<re.Match object; span=(0, 11), match='Hello world'>\n",
      "Hello world\n",
      "(0, 11)\n",
      "None\n"
     ]
    }
   ],
   "source": [
    "#define the string where we are searching for\n",
    "string = 'Hello world'\n",
    "\n",
    "#looking for pattern\n",
    "pattern1 = 'Hello'\n",
    "\n",
    "pattern2 = 'Hello world'\n",
    "\n",
    "pattern3 = 'Helloworld'\n",
    "\n",
    "m1 = re.fullmatch(pattern1,string)\n",
    "\n",
    "m2 = re.fullmatch(pattern2,string)\n",
    "\n",
    "m3 = re.fullmatch(pattern3,string)\n",
    "\n",
    "#know the type\n",
    "print(type(m1))  \n",
    "\n",
    "print(m1)\n",
    "\n",
    "if m1:\n",
    "    print(m1.group())\n",
    "    print(m1.span())\n",
    "\n",
    "\n",
    "\n",
    "#know the type\n",
    "print(type(m2))  \n",
    "\n",
    "print(m2)\n",
    "\n",
    "\n",
    "if m2:\n",
    "    print(m2.group())\n",
    "    print(m2.span())\n",
    "\n",
    "print(m3) #The pattern and the string must be exactly same."
   ]
  },
  {
   "attachments": {},
   "cell_type": "markdown",
   "metadata": {},
   "source": [
    "### d) finditer() \n",
    "vs\n",
    "### e) findall() "
   ]
  },
  {
   "cell_type": "code",
   "execution_count": 32,
   "metadata": {},
   "outputs": [
    {
     "name": "stdout",
     "output_type": "stream",
     "text": [
      "Result of finditer\n",
      "<class 'callable_iterator'>\n",
      "Match 1-->\n",
      "Starting index: 25\n",
      "Ending index: 31\n",
      "Matched pattern: Python\n",
      "Match 2-->\n",
      "Starting index: 55\n",
      "Ending index: 61\n",
      "Matched pattern: Python\n",
      "\n",
      "Results of findall\n",
      "<class 'list'>\n",
      "['Python', 'Python']\n"
     ]
    }
   ],
   "source": [
    "import re\n",
    "\n",
    "#define the string where we are searching for\n",
    "statement = 'Learning python is easy. Python is helpful. Now a days Python is in demand.'\n",
    "\n",
    "#find the matching using finditer\n",
    "matchings = re.finditer('Python', statement)\n",
    "#this returns the matched patterns as iterators.\n",
    "\n",
    "print('Result of finditer')\n",
    "print(type(matchings))\n",
    "\n",
    "count = 0\n",
    "\n",
    "for m in matchings:   \n",
    "\n",
    "    print(f'Match {count+1}-->')\n",
    "    print('Starting index:', m.start())\n",
    "    print('Ending index:',m.end())\n",
    "    print('Matched pattern:',m.group())\n",
    "\n",
    "    count = count + 1\n",
    "\n",
    "\n",
    "#Now find the matchings using findall\n",
    "matches = re.findall('Python',statement)\n",
    "print('\\nResults of findall')\n",
    "print(type(matches))\n",
    "print(matches)"
   ]
  },
  {
   "attachments": {},
   "cell_type": "markdown",
   "metadata": {},
   "source": [
    "### sub() & subn()\n",
    "\n"
   ]
  },
  {
   "cell_type": "code",
   "execution_count": 4,
   "metadata": {},
   "outputs": [
    {
     "name": "stdout",
     "output_type": "stream",
     "text": [
      "Original string:  frwerfewrt37534543dsge7\n",
      "String after substitution: frwerfewrt00000000dsge0\n",
      "('frwerfewrt00000000dsge0', 9)\n"
     ]
    }
   ],
   "source": [
    "import re\n",
    "\n",
    "string = 'frwerfewrt37534543dsge7'\n",
    "\n",
    "print('Original string: ', string)\n",
    "\n",
    "#replace a character using sub()\n",
    "#replace all digits with 0\n",
    "\n",
    "s= re.sub('\\d','0','frwerfewrt37534543dsge7')\n",
    "print('String after substitution:',s)\n",
    "\n",
    "#replace with subn()\n",
    "s= re.subn('\\d','0','frwerfewrt37534543dsge7')\n",
    "print(s)"
   ]
  },
  {
   "attachments": {},
   "cell_type": "markdown",
   "metadata": {},
   "source": [
    "### re.split()"
   ]
  },
  {
   "cell_type": "code",
   "execution_count": 8,
   "metadata": {},
   "outputs": [
    {
     "name": "stdout",
     "output_type": "stream",
     "text": [
      "<class 'list'>\n",
      "['10', '20', '3', '43', '232', '32']\n"
     ]
    }
   ],
   "source": [
    "string = '10-20-3-43-232-32'\n",
    "\n",
    "s= re.split('-',string)\n",
    "\n",
    "print(type(s))\n",
    "print(s)"
   ]
  },
  {
   "attachments": {},
   "cell_type": "markdown",
   "metadata": {},
   "source": [
    "### 2. Special pattern machting\n",
    "\n",
    "#### Example 1: Find anything else than digits"
   ]
  },
  {
   "cell_type": "code",
   "execution_count": 9,
   "metadata": {},
   "outputs": [
    {
     "name": "stdout",
     "output_type": "stream",
     "text": [
      "At posiion: 5 found t\n",
      "At posiion: 6 found g\n",
      "At posiion: 7 found i\n",
      "At posiion: 8 found o\n",
      "At posiion: 9 found u\n",
      "At posiion: 10 found y\n",
      "At posiion: 11 found b\n",
      "At posiion: 12 found u\n",
      "At posiion: 13 found k\n",
      "At posiion: 14 found y\n",
      "At posiion: 15 found r\n",
      "At posiion: 21 found y\n",
      "At posiion: 22 found k\n"
     ]
    }
   ],
   "source": [
    "import re\n",
    "\n",
    "item = '34236tgiouybukyr76587yk'\n",
    "\n",
    "finder = re.finditer('[^0-9]',item)   #find anything except numbers.\n",
    "\n",
    "for m in finder:\n",
    "    print('At posiion: {} found {}'.format(m.start(),m.group()))\n",
    "\n"
   ]
  },
  {
   "attachments": {},
   "cell_type": "markdown",
   "metadata": {},
   "source": [
    "#### Example 2: Find only digits"
   ]
  },
  {
   "cell_type": "code",
   "execution_count": 10,
   "metadata": {},
   "outputs": [
    {
     "name": "stdout",
     "output_type": "stream",
     "text": [
      "23\n",
      "At posiion: 0 found 3\n",
      "At posiion: 1 found 4\n",
      "At posiion: 2 found 2\n",
      "At posiion: 3 found 3\n",
      "At posiion: 4 found 6\n",
      "At posiion: 16 found 7\n",
      "At posiion: 17 found 6\n",
      "At posiion: 18 found 5\n",
      "At posiion: 19 found 8\n",
      "At posiion: 20 found 7\n"
     ]
    }
   ],
   "source": [
    "\n",
    "finder = re.finditer('\\d',item)   #find digits only\n",
    "\n",
    "print(len(item))\n",
    "for m in finder:\n",
    "    print('At posiion: {} found {}'.format(m.start(),m.group()))\n"
   ]
  },
  {
   "attachments": {},
   "cell_type": "markdown",
   "metadata": {},
   "source": [
    "#### Example 3: Find either word1 or word2"
   ]
  },
  {
   "cell_type": "code",
   "execution_count": 15,
   "metadata": {},
   "outputs": [
    {
     "name": "stdout",
     "output_type": "stream",
     "text": [
      "Match found: good\n",
      "Starting at: 18\n",
      "Ending at: 22\n"
     ]
    }
   ],
   "source": [
    "string = \"Hello! I am doing good today. Hope you are also doing fine.\"\n",
    "\n",
    "#find the word good or well\n",
    "\n",
    "findings = re.finditer(\"good|well\",string=string)\n",
    "\n",
    "for f in findings:\n",
    "    print('Match found:',f.group())\n",
    "    print('Starting at:',f.start())\n",
    "    print('Ending at:',f.end())"
   ]
  },
  {
   "attachments": {},
   "cell_type": "markdown",
   "metadata": {},
   "source": [
    "\n",
    "#### Quantifiers\n"
   ]
  },
  {
   "cell_type": "code",
   "execution_count": 12,
   "metadata": {},
   "outputs": [
    {
     "name": "stdout",
     "output_type": "stream",
     "text": [
      "Position: 0, match found c\n",
      "Position: 4, match found cc\n",
      "Position: 15, match found ccccc\n",
      "Position: 26, match found ccc\n"
     ]
    }
   ],
   "source": [
    "import re\n",
    "chars = 'cfsfccfdweudhwicccccdwerweccc'\n",
    "find = re.finditer('c+',chars)  #look for atleast 1 c\n",
    "for f in find:\n",
    "    print('Position: {}, match found {}'.format(f.start(),f.group()))"
   ]
  },
  {
   "cell_type": "markdown",
   "metadata": {},
   "source": [
    "### Strong password validation\n",
    "> Condition: Password should contain atleast one uppercase, atleast one lowercase, atleast one digit and atleast one special character and minimum 6 characters.\n"
   ]
  },
  {
   "cell_type": "code",
   "execution_count": 11,
   "metadata": {},
   "outputs": [
    {
     "name": "stdout",
     "output_type": "stream",
     "text": [
      "To set the password:\n",
      "-First character should be an alphabet.\n",
      "-There should be an uppercase alphabet.\n",
      "-There should be a lowercase alphabet.\n",
      "-Atleast one special character.\n",
      "-Minimum 6 characters.\n",
      "\n",
      "You entered: rewufhklajhf\n",
      "<re.Match object; span=(0, 12), match='rewufhklajhf'>\n",
      "There should be atleast one uppercase alphabet.\n",
      "There should be atleast one digit.\n",
      "There should be atleast one special character.\n",
      "Please re-enter your password\n"
     ]
    }
   ],
   "source": [
    "import re\n",
    "\n",
    "print('To set the password:\\n'+\n",
    "'-First character should be an alphabet.\\n'+\n",
    "'-There should be an uppercase alphabet.\\n'+\n",
    "'-There should be a lowercase alphabet.\\n'+\n",
    "'-Atleast one special character.\\n'+\n",
    "'-Minimum 6 characters.\\n')\n",
    "\n",
    "\n",
    "p = input('Set your password:')\n",
    "\n",
    "checker = '[a-zA-Z][a-zA-Z0-9!#$%&@ _=]{6,}'\n",
    "validattion = re.fullmatch(checker,p)\n",
    "\n",
    "print('You entered:',p)\n",
    "print(validattion)\n",
    "\n",
    "if validattion is not None:\n",
    "    count = 0\n",
    "    if re.search('[A-Z]',p) is not None:\n",
    "        count =count +1 \n",
    "    else:\n",
    "        print('There should be atleast one uppercase alphabet.')\n",
    "    if re.search('[a-z]',p) is not None:\n",
    "        count = count +1\n",
    "    else:\n",
    "        print('There should be atleast one lowercase alphabet.')\n",
    "    if re.search('[0-9]',p) is not None:\n",
    "        count = count +1\n",
    "    else:\n",
    "        print('There should be atleast one digit.')\n",
    "    if re.search('\\W',p) is not None:\n",
    "        count = count +1\n",
    "    else:\n",
    "        print('There should be atleast one special character.')\n",
    "    if count == 4:\n",
    "        print('Password set successfully.')\n",
    "    else:\n",
    "        print('Please re-enter your password')"
   ]
  },
  {
   "attachments": {},
   "cell_type": "markdown",
   "metadata": {},
   "source": [
    "### Another way to do it"
   ]
  },
  {
   "cell_type": "code",
   "execution_count": 93,
   "metadata": {},
   "outputs": [
    {
     "name": "stdout",
     "output_type": "stream",
     "text": [
      "You entered: Drshasu@10\n",
      "Password set successfully.\n"
     ]
    }
   ],
   "source": [
    "import re\n",
    "\n",
    "p = input('Set your password:')\n",
    "\n",
    "checker1 = '[a-zA-Z]'\n",
    "checker2 = '[a-z]'\n",
    "checker3 ='[A-Z]'\n",
    "checker4= '\\d'\n",
    "chekcer5 = '\\W'\n",
    "v1 = re.match(checker1,p)\n",
    "v2 = re.search(checker2,p)\n",
    "v3 = re.search(checker3,p)\n",
    "v4 = re.search(checker4,p)\n",
    "v5 = re.search(chekcer5,p)\n",
    "\n",
    "\n",
    "print('You entered:',p)\n",
    "\n",
    "if all([v1,v2,v3,v4,v5]) and len(p)>=8:\n",
    "    print('Password set successfully.')\n",
    "else:\n",
    "    print('Re enter the password.')"
   ]
  }
 ],
 "metadata": {
  "kernelspec": {
   "display_name": "Python 3.8.10 64-bit",
   "language": "python",
   "name": "python3"
  },
  "language_info": {
   "codemirror_mode": {
    "name": "ipython",
    "version": 3
   },
   "file_extension": ".py",
   "mimetype": "text/x-python",
   "name": "python",
   "nbconvert_exporter": "python",
   "pygments_lexer": "ipython3",
   "version": "3.8.10 (default, Nov 14 2022, 12:59:47) \n[GCC 9.4.0]"
  },
  "orig_nbformat": 4,
  "vscode": {
   "interpreter": {
    "hash": "916dbcbb3f70747c44a77c7bcd40155683ae19c65e1c03b4aa3499c5328201f1"
   }
  }
 },
 "nbformat": 4,
 "nbformat_minor": 2
}
